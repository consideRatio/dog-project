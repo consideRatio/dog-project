{
 "cells": [
  {
   "cell_type": "markdown",
   "metadata": {},
   "source": [
    "# Artificial Intelligence Nanodegree\n",
    "\n",
    "## Convolutional Neural Networks\n",
    "\n",
    "## Project: Write an Algorithm for a Dog Identification App \n",
    "\n",
    "---\n",
    "\n",
    "In this notebook, some template code has already been provided for you, and you will need to implement additional functionality to successfully complete this project. You will not need to modify the included code beyond what is requested. Sections that begin with **'(IMPLEMENTATION)'** in the header indicate that the following block of code will require additional functionality which you must provide. Instructions will be provided for each section, and the specifics of the implementation are marked in the code block with a 'TODO' statement. Please be sure to read the instructions carefully! \n",
    "\n",
    "> **Note**: Once you have completed all of the code implementations, you need to finalize your work by exporting the iPython Notebook as an HTML document. Before exporting the notebook to html, all of the code cells need to have been run so that reviewers can see the final implementation and output. You can then export the notebook by using the menu above and navigating to  \\n\",\n",
    "    \"**File -> Download as -> HTML (.html)**. Include the finished document along with this notebook as your submission.\n",
    "\n",
    "In addition to implementing code, there will be questions that you must answer which relate to the project and your implementation. Each section where you will answer a question is preceded by a **'Question X'** header. Carefully read each question and provide thorough answers in the following text boxes that begin with **'Answer:'**. Your project submission will be evaluated based on your answers to each of the questions and the implementation you provide.\n",
    "\n",
    ">**Note:** Code and Markdown cells can be executed using the **Shift + Enter** keyboard shortcut.  Markdown cells can be edited by double-clicking the cell to enter edit mode.\n",
    "\n",
    "The rubric contains _optional_ \"Stand Out Suggestions\" for enhancing the project beyond the minimum requirements. If you decide to pursue the \"Stand Out Suggestions\", you should include the code in this IPython notebook.\n",
    "\n",
    "\n",
    "\n",
    "---\n",
    "### Why We're Here \n",
    "\n",
    "In this notebook, you will make the first steps towards developing an algorithm that could be used as part of a mobile or web app.  At the end of this project, your code will accept any user-supplied image as input.  If a dog is detected in the image, it will provide an estimate of the dog's breed.  If a human is detected, it will provide an estimate of the dog breed that is most resembling.  The image below displays potential sample output of your finished project (... but we expect that each student's algorithm will behave differently!). \n",
    "\n",
    "![Sample Dog Output](images/sample_dog_output.png)\n",
    "\n",
    "In this real-world setting, you will need to piece together a series of models to perform different tasks; for instance, the algorithm that detects humans in an image will be different from the CNN that infers dog breed.  There are many points of possible failure, and no perfect algorithm exists.  Your imperfect solution will nonetheless create a fun user experience!\n",
    "\n",
    "### The Road Ahead\n",
    "\n",
    "We break the notebook into separate steps.  Feel free to use the links below to navigate the notebook.\n",
    "\n",
    "* [Step 0](#step0): Import Datasets\n",
    "* [Step 1](#step1): Detect Humans\n",
    "* [Step 2](#step2): Detect Dogs\n",
    "* [Step 3](#step3): Create a CNN to Classify Dog Breeds (from Scratch)\n",
    "* [Step 4](#step4): Use a CNN to Classify Dog Breeds (using Transfer Learning)\n",
    "* [Step 5](#step5): Create a CNN to Classify Dog Breeds (using Transfer Learning)\n",
    "* [Step 6](#step6): Write your Algorithm\n",
    "* [Step 7](#step7): Test Your Algorithm\n",
    "\n",
    "---\n",
    "<a id='step0'></a>\n",
    "## Step 0: Import Datasets\n",
    "\n",
    "### Import Dog Dataset\n",
    "\n",
    "In the code cell below, we import a dataset of dog images.  We populate a few variables through the use of the `load_files` function from the scikit-learn library:\n",
    "- `train_files`, `valid_files`, `test_files` - numpy arrays containing file paths to images\n",
    "- `train_targets`, `valid_targets`, `test_targets` - numpy arrays containing onehot-encoded classification labels \n",
    "- `dog_names` - list of string-valued dog breed names for translating labels"
   ]
  },
  {
   "cell_type": "code",
   "execution_count": 1,
   "metadata": {},
   "outputs": [
    {
     "name": "stderr",
     "output_type": "stream",
     "text": [
      "Using TensorFlow backend.\n"
     ]
    },
    {
     "name": "stdout",
     "output_type": "stream",
     "text": [
      "There are 133 total dog categories.\n",
      "There are 8351 total dog images.\n",
      "\n",
      "There are 6680 training dog images.\n",
      "There are 835 validation dog images.\n",
      "There are 836 test dog images.\n"
     ]
    }
   ],
   "source": [
    "from sklearn.datasets import load_files       \n",
    "from keras.utils import np_utils\n",
    "import numpy as np\n",
    "from glob import glob\n",
    "\n",
    "# define function to load train, test, and validation datasets\n",
    "def load_dataset(path):\n",
    "    data = load_files(path)\n",
    "    dog_files = np.array(data['filenames'])\n",
    "    dog_targets = np_utils.to_categorical(np.array(data['target']), 133)\n",
    "    return dog_files, dog_targets\n",
    "\n",
    "# load train, test, and validation datasets\n",
    "train_files, train_targets = load_dataset('dogImages/train')\n",
    "valid_files, valid_targets = load_dataset('dogImages/valid')\n",
    "test_files, test_targets = load_dataset('dogImages/test')\n",
    "\n",
    "# load list of dog names\n",
    "dog_names = [item[20:-1] for item in sorted(glob(\"dogImages/train/*/\"))]\n",
    "\n",
    "# print statistics about the dataset\n",
    "print('There are %d total dog categories.' % len(dog_names))\n",
    "print('There are %s total dog images.\\n' % len(np.hstack([train_files, valid_files, test_files])))\n",
    "print('There are %d training dog images.' % len(train_files))\n",
    "print('There are %d validation dog images.' % len(valid_files))\n",
    "print('There are %d test dog images.'% len(test_files))"
   ]
  },
  {
   "cell_type": "markdown",
   "metadata": {},
   "source": [
    "### Import Human Dataset\n",
    "\n",
    "In the code cell below, we import a dataset of human images, where the file paths are stored in the numpy array `human_files`."
   ]
  },
  {
   "cell_type": "code",
   "execution_count": 2,
   "metadata": {},
   "outputs": [
    {
     "name": "stdout",
     "output_type": "stream",
     "text": [
      "There are 13233 total human images.\n"
     ]
    }
   ],
   "source": [
    "import random\n",
    "random.seed(8675309)\n",
    "\n",
    "# load filenames in shuffled human dataset\n",
    "human_files = np.array(glob(\"lfw/*/*\"))\n",
    "random.shuffle(human_files)\n",
    "\n",
    "# print statistics about the dataset\n",
    "print('There are %d total human images.' % len(human_files))"
   ]
  },
  {
   "cell_type": "markdown",
   "metadata": {},
   "source": [
    "---\n",
    "<a id='step1'></a>\n",
    "## Step 1: Detect Humans\n",
    "\n",
    "We use OpenCV's implementation of [Haar feature-based cascade classifiers](http://docs.opencv.org/trunk/d7/d8b/tutorial_py_face_detection.html) to detect human faces in images.  OpenCV provides many pre-trained face detectors, stored as XML files on [github](https://github.com/opencv/opencv/tree/master/data/haarcascades).  We have downloaded one of these detectors and stored it in the `haarcascades` directory.\n",
    "\n",
    "In the next code cell, we demonstrate how to use this detector to find human faces in a sample image."
   ]
  },
  {
   "cell_type": "code",
   "execution_count": 3,
   "metadata": {},
   "outputs": [
    {
     "name": "stdout",
     "output_type": "stream",
     "text": [
      "Number of faces detected: 1\n"
     ]
    },
    {
     "data": {
      "image/png": "[encoded data removed]",
      "text/plain": [
       "<matplotlib.figure.Figure at 0x7fe44aaeacf8>"
      ]
     },
     "metadata": {},
     "output_type": "display_data"
    }
   ],
   "source": [
    "import cv2                \n",
    "import matplotlib.pyplot as plt                        \n",
    "%matplotlib inline                               \n",
    "\n",
    "# extract pre-trained face detector\n",
    "face_cascade = cv2.CascadeClassifier('haarcascades/haarcascade_frontalface_alt.xml')\n",
    "\n",
    "# load color (BGR) image\n",
    "img = cv2.imread(human_files[3])\n",
    "# convert BGR image to grayscale\n",
    "gray = cv2.cvtColor(img, cv2.COLOR_BGR2GRAY)\n",
    "\n",
    "# find faces in image\n",
    "faces = face_cascade.detectMultiScale(gray)\n",
    "\n",
    "# print number of faces detected in the image\n",
    "print('Number of faces detected:', len(faces))\n",
    "\n",
    "# get bounding box for each detected face\n",
    "for (x,y,w,h) in faces:\n",
    "    # add bounding box to color image\n",
    "    cv2.rectangle(img,(x,y),(x+w,y+h),(255,0,0),2)\n",
    "    \n",
    "# convert BGR image to RGB for plotting\n",
    "cv_rgb = cv2.cvtColor(img, cv2.COLOR_BGR2RGB)\n",
    "\n",
    "# display the image, along with bounding box\n",
    "plt.imshow(cv_rgb)\n",
    "plt.show()"
   ]
  },
  {
   "cell_type": "markdown",
   "metadata": {},
   "source": [
    "Before using any of the face detectors, it is standard procedure to convert the images to grayscale.  The `detectMultiScale` function executes the classifier stored in `face_cascade` and takes the grayscale image as a parameter.  \n",
    "\n",
    "In the above code, `faces` is a numpy array of detected faces, where each row corresponds to a detected face.  Each detected face is a 1D array with four entries that specifies the bounding box of the detected face.  The first two entries in the array (extracted in the above code as `x` and `y`) specify the horizontal and vertical positions of the top left corner of the bounding box.  The last two entries in the array (extracted here as `w` and `h`) specify the width and height of the box.\n",
    "\n",
    "### Write a Human Face Detector\n",
    "\n",
    "We can use this procedure to write a function that returns `True` if a human face is detected in an image and `False` otherwise.  This function, aptly named `face_detector`, takes a string-valued file path to an image as input and appears in the code block below."
   ]
  },
  {
   "cell_type": "code",
   "execution_count": 4,
   "metadata": {
    "collapsed": true
   },
   "outputs": [],
   "source": [
    "# returns \"True\" if face is detected in image stored at img_path\n",
    "def face_detector(img_path):\n",
    "    img = cv2.imread(img_path)\n",
    "    gray = cv2.cvtColor(img, cv2.COLOR_BGR2GRAY)\n",
    "    faces = face_cascade.detectMultiScale(gray)\n",
    "    return len(faces) > 0"
   ]
  },
  {
   "cell_type": "markdown",
   "metadata": {},
   "source": [
    "### (IMPLEMENTATION) Assess the Human Face Detector\n",
    "\n",
    "__Question 1:__ Use the code cell below to test the performance of the `face_detector` function.  \n",
    "- What percentage of the first 100 images in `human_files` have a detected human face?  \n",
    "- What percentage of the first 100 images in `dog_files` have a detected human face? \n",
    "\n",
    "Ideally, we would like 100% of human images with a detected face and 0% of dog images with a detected face.  You will see that our algorithm falls short of this goal, but still gives acceptable performance.  We extract the file paths for the first 100 images from each of the datasets and store them in the numpy arrays `human_files_short` and `dog_files_short`."
   ]
  },
  {
   "cell_type": "code",
   "execution_count": 5,
   "metadata": {
    "scrolled": true
   },
   "outputs": [
    {
     "data": {
      "text/markdown": [
       "> __Answer 1:__\n",
       "\n",
       "> |Humans images |Dogs images.\n",
       "> -:|:-|:-\n",
       "> Human face detected|97%|11%"
      ],
      "text/plain": [
       "<IPython.core.display.Markdown object>"
      ]
     },
     "metadata": {},
     "output_type": "display_data"
    }
   ],
   "source": [
    "human_files_short = human_files[:100]\n",
    "dog_files_short = train_files[:100]\n",
    "# Do NOT modify the code above this line.\n",
    "\n",
    "from IPython.display import Markdown\n",
    "\n",
    "## DONE: Test the performance of the face_detector algorithm \n",
    "## on the images in human_files_short and dog_files_short.\n",
    "def pct_faces(files):\n",
    "    images_with_faces = 0\n",
    "    for file in files:\n",
    "        if face_detector(file):\n",
    "            images_with_faces += 1\n",
    "    \n",
    "    return images_with_faces / len(files) * 100\n",
    "\n",
    "display(Markdown(\n",
    "    \"> __Answer 1:__\\n\\n\"+\n",
    "    \"> |Humans images |Dogs images.\\n\"+\n",
    "    \"> -:|:-|:-\\n\"+\n",
    "    \"> Human face detected|{:.0f}%|{:.0f}%\".format(pct_faces(human_files_short), pct_faces(dog_files_short))\n",
    "))"
   ]
  },
  {
   "cell_type": "markdown",
   "metadata": {},
   "source": [
    "__Question 2:__ This algorithmic choice necessitates that we communicate to the user that we accept human images only when they provide a clear view of a face (otherwise, we risk having unneccessarily frustrated users!). In your opinion, is this a reasonable expectation to pose on the user? If not, can you think of a way to detect humans in images that does not necessitate an image with a clearly presented face?\n",
    "\n",
    "__Answer 2:__\n",
    "\n",
    "Since its fully possible to get a lot better human recognition than utilizing the haar cascade face detection, I'd say the fully developed app should do that, but it will be a judgement call if its important enough to spend more time on. The dog detector detected different dog breeds using known pretrained weights on the ResNet50 architecture. I made a quick look to see if any of the classes represented humans, but I only found animal labels in the output. It would had been a quick modification to simply use the already trained weights on an predefined architecture and spotted the humans.\n",
    "\n",
    "For this app, I'd suggest to have one single network responsible for classifying humans and dogs and its breeds. The dog outcome should be the sum of all the dog breeds (using \"softmax\" activation)."
   ]
  },
  {
   "cell_type": "markdown",
   "metadata": {},
   "source": [
    "__Otional task:__"
   ]
  },
  {
   "cell_type": "markdown",
   "metadata": {},
   "source": [
    "We suggest the face detector from OpenCV as a potential way to detect human images in your algorithm, but you are free to explore other approaches, especially approaches that make use of deep learning :).  Please use the code cell below to design and test your own face detection algorithm.  If you decide to pursue this _optional_ task, report performance on each of the datasets."
   ]
  },
  {
   "cell_type": "code",
   "execution_count": 6,
   "metadata": {
    "collapsed": true
   },
   "outputs": [],
   "source": [
    "## (Optional) TODO: Report the performance of another  \n",
    "## face detection algorithm on the LFW dataset\n",
    "### Feel free to use as many code cells as needed."
   ]
  },
  {
   "cell_type": "markdown",
   "metadata": {},
   "source": [
    "---\n",
    "<a id='step2'></a>\n",
    "## Step 2: Detect Dogs\n",
    "\n",
    "In this section, we use a pre-trained [ResNet-50](http://ethereon.github.io/netscope/#/gist/db945b393d40bfa26006) model to detect dogs in images.  Our first line of code downloads the ResNet-50 model, along with weights that have been trained on [ImageNet](http://www.image-net.org/), a very large, very popular dataset used for image classification and other vision tasks.  ImageNet contains over 10 million URLs, each linking to an image containing an object from one of [1000 categories](https://gist.github.com/yrevar/942d3a0ac09ec9e5eb3a).  Given an image, this pre-trained ResNet-50 model returns a prediction (derived from the available categories in ImageNet) for the object that is contained in the image."
   ]
  },
  {
   "cell_type": "code",
   "execution_count": 7,
   "metadata": {
    "collapsed": true
   },
   "outputs": [],
   "source": [
    "from keras.applications.resnet50 import ResNet50\n",
    "\n",
    "# define ResNet50 model\n",
    "ResNet50_model = ResNet50(weights='imagenet')"
   ]
  },
  {
   "cell_type": "markdown",
   "metadata": {},
   "source": [
    "### Pre-process the Data\n",
    "\n",
    "When using TensorFlow as backend, Keras CNNs require a 4D array (which we'll also refer to as a 4D tensor) as input, with shape\n",
    "\n",
    "$$\n",
    "(\\text{nb_samples}, \\text{rows}, \\text{columns}, \\text{channels}),\n",
    "$$\n",
    "\n",
    "where `nb_samples` corresponds to the total number of images (or samples), and `rows`, `columns`, and `channels` correspond to the number of rows, columns, and channels for each image, respectively.  \n",
    "\n",
    "The `path_to_tensor` function below takes a string-valued file path to a color image as input and returns a 4D tensor suitable for supplying to a Keras CNN.  The function first loads the image and resizes it to a square image that is $224 \\times 224$ pixels.  Next, the image is converted to an array, which is then resized to a 4D tensor.  In this case, since we are working with color images, each image has three channels.  Likewise, since we are processing a single image (or sample), the returned tensor will always have shape\n",
    "\n",
    "$$\n",
    "(1, 224, 224, 3).\n",
    "$$\n",
    "\n",
    "The `paths_to_tensor` function takes a numpy array of string-valued image paths as input and returns a 4D tensor with shape \n",
    "\n",
    "$$\n",
    "(\\text{nb_samples}, 224, 224, 3).\n",
    "$$\n",
    "\n",
    "Here, `nb_samples` is the number of samples, or number of images, in the supplied array of image paths.  It is best to think of `nb_samples` as the number of 3D tensors (where each 3D tensor corresponds to a different image) in your dataset!"
   ]
  },
  {
   "cell_type": "code",
   "execution_count": 8,
   "metadata": {
    "collapsed": true
   },
   "outputs": [],
   "source": [
    "from keras.preprocessing import image                  \n",
    "from tqdm import tqdm\n",
    "\n",
    "def path_to_tensor(img_path):\n",
    "    # loads RGB image as PIL.Image.Image type\n",
    "    img = image.load_img(img_path, target_size=(224, 224))\n",
    "    # convert PIL.Image.Image type to 3D tensor with shape (224, 224, 3)\n",
    "    x = image.img_to_array(img)\n",
    "    # convert 3D tensor to 4D tensor with shape (1, 224, 224, 3) and return 4D tensor\n",
    "    return np.expand_dims(x, axis=0)\n",
    "\n",
    "def paths_to_tensor(img_paths):\n",
    "    list_of_tensors = [path_to_tensor(img_path) for img_path in tqdm(img_paths)]\n",
    "    return np.vstack(list_of_tensors)"
   ]
  },
  {
   "cell_type": "markdown",
   "metadata": {},
   "source": [
    "### Making Predictions with ResNet-50\n",
    "\n",
    "Getting the 4D tensor ready for ResNet-50, and for any other pre-trained model in Keras, requires some additional processing.  First, the RGB image is converted to BGR by reordering the channels.  All pre-trained models have the additional normalization step that the mean pixel (expressed in RGB as $[103.939, 116.779, 123.68]$ and calculated from all pixels in all images in ImageNet) must be subtracted from every pixel in each image.  This is implemented in the imported function `preprocess_input`.  If you're curious, you can check the code for `preprocess_input` [here](https://github.com/fchollet/keras/blob/master/keras/applications/imagenet_utils.py).\n",
    "\n",
    "Now that we have a way to format our image for supplying to ResNet-50, we are now ready to use the model to extract the predictions.  This is accomplished with the `predict` method, which returns an array whose $i$-th entry is the model's predicted probability that the image belongs to the $i$-th ImageNet category.  This is implemented in the `ResNet50_predict_labels` function below.\n",
    "\n",
    "By taking the argmax of the predicted probability vector, we obtain an integer corresponding to the model's predicted object class, which we can identify with an object category through the use of this [dictionary](https://gist.github.com/yrevar/942d3a0ac09ec9e5eb3a). "
   ]
  },
  {
   "cell_type": "code",
   "execution_count": 9,
   "metadata": {
    "collapsed": true
   },
   "outputs": [],
   "source": [
    "from keras.applications.resnet50 import preprocess_input\n",
    "\n",
    "def ResNet50_predict_labels(img_path):\n",
    "    # returns prediction vector for image located at img_path\n",
    "    img = preprocess_input(path_to_tensor(img_path))\n",
    "    return np.argmax(ResNet50_model.predict(img))"
   ]
  },
  {
   "cell_type": "markdown",
   "metadata": {},
   "source": [
    "### Write a Dog Detector\n",
    "\n",
    "While looking at the [dictionary](https://gist.github.com/yrevar/942d3a0ac09ec9e5eb3a), you will notice that the categories corresponding to dogs appear in an uninterrupted sequence and correspond to dictionary keys 151-268, inclusive, to include all categories from `'Chihuahua'` to `'Mexican hairless'`.  Thus, in order to check to see if an image is predicted to contain a dog by the pre-trained ResNet-50 model, we need only check if the `ResNet50_predict_labels` function above returns a value between 151 and 268 (inclusive).\n",
    "\n",
    "We use these ideas to complete the `dog_detector` function below, which returns `True` if a dog is detected in an image (and `False` if not)."
   ]
  },
  {
   "cell_type": "code",
   "execution_count": 10,
   "metadata": {
    "collapsed": true
   },
   "outputs": [],
   "source": [
    "### returns \"True\" if a dog is detected in the image stored at img_path\n",
    "def dog_detector(img_path):\n",
    "    prediction = ResNet50_predict_labels(img_path)\n",
    "    return ((prediction <= 268) & (prediction >= 151)) "
   ]
  },
  {
   "cell_type": "markdown",
   "metadata": {},
   "source": [
    "### (IMPLEMENTATION) Assess the Dog Detector\n",
    "\n",
    "__Question 3:__ Use the code cell below to test the performance of your `dog_detector` function.  \n",
    "- What percentage of the images in `human_files_short` have a detected dog?  \n",
    "- What percentage of the images in `dog_files_short` have a detected dog?\n",
    "\n",
    "__Answer 3:__ "
   ]
  },
  {
   "cell_type": "code",
   "execution_count": 11,
   "metadata": {},
   "outputs": [
    {
     "data": {
      "text/markdown": [
       "> __Answer 3:__\n",
       "\n",
       "> |Human images|Dogs images\n",
       "> -:|:-|:-\n",
       "> Dog detected|2%|100%"
      ],
      "text/plain": [
       "<IPython.core.display.Markdown object>"
      ]
     },
     "metadata": {},
     "output_type": "display_data"
    }
   ],
   "source": [
    "### DONE: Test the performance of the dog_detector function\n",
    "### on the images in human_files_short and dog_files_short.\n",
    "\n",
    "def pct_dogs(files):\n",
    "    images_with_dogs = 0\n",
    "    for file in files:\n",
    "        if dog_detector(file):\n",
    "            images_with_dogs += 1\n",
    "    \n",
    "    return images_with_dogs / len(files) * 100\n",
    "\n",
    "display(Markdown(\n",
    "    \"> __Answer 3:__\\n\\n\"+\n",
    "    \"> |Human images|Dogs images\\n\"+\n",
    "    \"> -:|:-|:-\\n\"+\n",
    "    \"> Dog detected|{:.0f}%|{:.0f}%\".format(pct_dogs(human_files_short), pct_dogs(dog_files_short))\n",
    "))"
   ]
  },
  {
   "cell_type": "markdown",
   "metadata": {},
   "source": [
    "---\n",
    "<a id='step3'></a>\n",
    "## Step 3: Create a CNN to Classify Dog Breeds (from Scratch)\n",
    "\n",
    "Now that we have functions for detecting humans and dogs in images, we need a way to predict breed from images.  In this step, you will create a CNN that classifies dog breeds.  You must create your CNN _from scratch_ (so, you can't use transfer learning _yet_!), and you must attain a test accuracy of at least 1%.  In Step 5 of this notebook, you will have the opportunity to use transfer learning to create a CNN that attains greatly improved accuracy.\n",
    "\n",
    "Be careful with adding too many trainable layers!  More parameters means longer training, which means you are more likely to need a GPU to accelerate the training process.  Thankfully, Keras provides a handy estimate of the time that each epoch is likely to take; you can extrapolate this estimate to figure out how long it will take for your algorithm to train. \n",
    "\n",
    "We mention that the task of assigning breed to dogs from images is considered exceptionally challenging.  To see why, consider that *even a human* would have great difficulty in distinguishing between a Brittany and a Welsh Springer Spaniel.  \n",
    "\n",
    "Brittany | Welsh Springer Spaniel\n",
    "- | - \n",
    "<img src=\"images/Brittany_02625.jpg\" width=\"100\"> | <img src=\"images/Welsh_springer_spaniel_08203.jpg\" width=\"200\">\n",
    "\n",
    "It is not difficult to find other dog breed pairs with minimal inter-class variation (for instance, Curly-Coated Retrievers and American Water Spaniels).  \n",
    "\n",
    "Curly-Coated Retriever | American Water Spaniel\n",
    "- | -\n",
    "<img src=\"images/Curly-coated_retriever_03896.jpg\" width=\"200\"> | <img src=\"images/American_water_spaniel_00648.jpg\" width=\"200\">\n",
    "\n",
    "\n",
    "Likewise, recall that labradors come in yellow, chocolate, and black.  Your vision-based algorithm will have to conquer this high intra-class variation to determine how to classify all of these different shades as the same breed.  \n",
    "\n",
    "Yellow Labrador | Chocolate Labrador | Black Labrador\n",
    "- | -\n",
    "<img src=\"images/Labrador_retriever_06457.jpg\" width=\"150\"> | <img src=\"images/Labrador_retriever_06455.jpg\" width=\"240\"> | <img src=\"images/Labrador_retriever_06449.jpg\" width=\"220\">\n",
    "\n",
    "We also mention that random chance presents an exceptionally low bar: setting aside the fact that the classes are slightly imabalanced, a random guess will provide a correct answer roughly 1 in 133 times, which corresponds to an accuracy of less than 1%.  \n",
    "\n",
    "Remember that the practice is far ahead of the theory in deep learning.  Experiment with many different architectures, and trust your intuition.  And, of course, have fun! \n",
    "\n",
    "### Pre-process the Data\n",
    "\n",
    "We rescale the images by dividing every pixel in every image by 255."
   ]
  },
  {
   "cell_type": "code",
   "execution_count": 12,
   "metadata": {},
   "outputs": [
    {
     "name": "stderr",
     "output_type": "stream",
     "text": [
      "100%|██████████| 6680/6680 [00:34<00:00, 194.62it/s]\n",
      "100%|██████████| 835/835 [00:03<00:00, 217.52it/s]\n",
      "100%|██████████| 836/836 [00:03<00:00, 214.98it/s]\n"
     ]
    }
   ],
   "source": [
    "from PIL import ImageFile                            \n",
    "ImageFile.LOAD_TRUNCATED_IMAGES = True                 \n",
    "\n",
    "# pre-process the data for Keras\n",
    "train_tensors = paths_to_tensor(train_files).astype('float32')/255\n",
    "valid_tensors = paths_to_tensor(valid_files).astype('float32')/255\n",
    "test_tensors = paths_to_tensor(test_files).astype('float32')/255"
   ]
  },
  {
   "cell_type": "markdown",
   "metadata": {},
   "source": [
    "### (IMPLEMENTATION) Model Architecture\n",
    "\n",
    "Create a CNN to classify dog breed.  At the end of your code cell block, summarize the layers of your model by executing the line:\n",
    "    \n",
    "        model.summary()\n",
    "\n",
    "We have imported some Python modules to get you started, but feel free to import as many modules as you need.  If you end up getting stuck, here's a hint that specifies a model that trains relatively fast on CPU and attains >1% test accuracy in 5 epochs:\n",
    "\n",
    "![Sample CNN](images/sample_cnn.png)\n",
    "           \n",
    "__Question 4:__ Outline the steps you took to get to your final CNN architecture and your reasoning at each step.  If you chose to use the hinted architecture above, describe why you think that CNN architecture should work well for the image classification task."
   ]
  },
  {
   "cell_type": "markdown",
   "metadata": {},
   "source": [
    "__Answer 4:__\n",
    "\n",
    "First I wanted to verify my own understanding of the parts involved, I raised questions.\n",
    "\n",
    "* Why did the first convolutional layer in the provided example architecture output a shape with 223 rather than 224? --- `valid` padding vs `same` padding.\n",
    "* How do I slowly deform the shape of my input to match the onedimensional output layer? --- `MaxPooling2D` layers or `Conv2D` layers with stride larger than 1.\n",
    "* GPU vs CPU time on training the provided architecture for 5 epochs (GeForce GTX 1080 Ti vs Intel i7 7700K)? --- 29 sec (7%) vs 400 sec.\n",
    "\n",
    "---\n",
    "\n",
    "Secondly I started experimenting with the hinted architecture, looking at the training, validation and testing accuracy change, always using 10 epochs.\n",
    "\n",
    "* What happens if I add or remove convolutional layers in the same manner? --- It did better for two additional layers, then it started overfitting.\n",
    "\n",
    "Model|Time (s)|Train acc.|Val acc.|Test acc.|Out. width|Params|Notes\n",
    "-:|-|-|-|-|-|-|:-\n",
    "Suggested CNN - 2 Conv|44|1.87%|1.68%|2.03%|111|2,469|\n",
    "Suggested CNN - 1 Conv|54|2.10%|2.04%|1.44%|55|6,677|\n",
    "Suggested CNN         |60|3.05%|2.75%|3.59%|27|19,189|\n",
    "Suggested CNN + 1 Conv|63|6.50%|5.15%|7.18%|13|60,597|\n",
    "Suggested CNN + 2 Conv|66|9.55%|6.71%|10.5%|6|208,949|Wow!\n",
    "Suggested CNN + 3 Conv|68|20.7%|15.6%|2.03%|2|772,429|Overfitting!\n",
    "\n",
    "* What happens if I add some more dense layers in the end? --- It improves without much additional training time if I add two but no more than two layers for a total of three dense layers in the end. But is this significant, the same architecture that previously gave me a testing score of 10.5% now gave me 7.18%...\n",
    "\n",
    "Model|Time (s)|Train acc.|Val acc.|Test acc.|Out. width|Params|Notes\n",
    "-:|-|-|-|-|-|-|:-\n",
    "Suggested CNN + 2 Conv               |65|7.35%|6.35%|7.18%|6|208,949|A lot worse than before!?\n",
    "Suggested CNN + 2 Conv + 1 Dense 128 |66|7.46%|7.76%|8.13%|6|224,821|Slightly better?\n",
    "Suggested CNN + 2 Conv + 2 Dense 128 |67|8.56%|7.78%|9.09%|6|241,333|Slightly better?\n",
    "Suggested CNN + 2 Conv + 3 Dense 128 |66|5.76%|5.55%|6.58%|6|257,845|Worse?\n",
    "\n",
    "* Using the same architecture, I noticed I got quite different outcomes of training. How much variation is there really? --- Okay the variation is too high to conclude that my additional dense layers previously was beneficial...\n",
    "\n",
    "Model|Time (s)|Train acc.|Val acc.|Test acc.|Out. width|Params|Notes\n",
    "-:|-|-|-|-|-|-|:-\n",
    "Suggested CNN + 2 Conv|66|9.55%|6.71%|10.5%|6|208,949|\n",
    "Suggested CNN + 2 Conv|65|7.35%|6.35%|7.18%|6|208,949|Worst run\n",
    "Suggested CNN + 2 Conv|66|11.1%|8.38%|11.0%|6|208,949|Best run\n",
    "Suggested CNN + 2 Conv|65|9.40%|7.43%|10.8%|6|208,949|\n",
    "Suggested CNN + 2 Conv|65|11.3%|8.14%|9.68%|6|208,949|\n",
    "\n",
    "* So if I make five runs with two additional dense layers, will I improve on average? --- No I don't think so, at least not using only 10 epochs.\n",
    "\n",
    "Model|Time (s)|Train acc.|Val acc.|Test acc.|Out. width|Params\n",
    "-:|-|-|-|-|\n",
    "Suggested CNN + 2 Conv + 2 Dense 128 |67|8.56%|7.78%|9.09%|6|241,333\n",
    "Suggested CNN + 2 Conv + 2 Dense 128 |67|7.77%|6.47%|8.37%|6|241,333\n",
    "Suggested CNN + 2 Conv + 2 Dense 128 |66|6.83%|5.75%|8.49%|6|241,333\n",
    "Suggested CNN + 2 Conv + 2 Dense 128 |66|8.25%|7.78%|9.21%|6|241,333\n",
    "Suggested CNN + 2 Conv + 2 Dense 128 |67|8.02%|7.19%|9.57%|6|241,333\n",
    "\n",
    "* So if I let my two most interesting candidates architecture run for 50 epochs, how good do they get? --- They reach about 20% then it keeps overfitting without improving.\n",
    "\n",
    "Model|Time (s)|Train acc.|Val acc.|Test acc.|Out. width|Params|Epochs|Last acc.|Notes\n",
    "-:|-|-|-|-|-|-|-|-|:-\n",
    "Suggested CNN + 2 Conv               |5m28s|48.9%|23.7%|23.2%|6|208,949|50 (best at 35)|70.2%|Overfitting\n",
    "Suggested CNN + 2 Conv + 2 Dense 128 |5m31s|32%|20.2%|21.5%|6|241,333|50 (best at 28)|76.5%|Overfitting\n",
    "\n",
    "---\n",
    "\n",
    "I'll stop experimenting with the hinted architecture now and settle to use a similar architecture of the hinted one, where I add two convolutional and pooling layers. I like that it massages the input dimensions down as suggested by the course video below.\n",
    "\n",
    "|__CNNs For Image Classification__|\n",
    "|:-|\n",
    "|[![](https://img.youtube.com/vi/l9vg_1YUlzg/0.jpg)](https://www.youtube.com/watch?v=l9vg_1YUlzg&t=5m25s)|\n",
    "\n",
    "---\n",
    "\n",
    "> __REFINEMENT ATTEMPT 1__: I returned here and experimented further using Dropout and BatchNormalization layers, but I never got better results by using them. The variation in my final architecture was quite big, I managed to get 33% once, but the median test result was probably around 20-22%.\n",
    "\n",
    "> __REFINEMENT ATTEMPT 2__: I experimented using a dense layer in the end with 512 nodes and dropout of 0.2 as well as batch normalization, and found that my training became more steady - loss and val_loss went down together without diverging from eachother. I also managed to get about the same result as before, so that became my final model!"
   ]
  },
  {
   "cell_type": "code",
   "execution_count": 69,
   "metadata": {
    "scrolled": false
   },
   "outputs": [
    {
     "name": "stdout",
     "output_type": "stream",
     "text": [
      "_________________________________________________________________\n",
      "Layer (type)                 Output Shape              Param #   \n",
      "=================================================================\n",
      "conv2d_72 (Conv2D)           (None, 223, 223, 16)      208       \n",
      "_________________________________________________________________\n",
      "activation_98 (Activation)   (None, 223, 223, 16)      0         \n",
      "_________________________________________________________________\n",
      "max_pooling2d_37 (MaxPooling (None, 111, 111, 16)      0         \n",
      "_________________________________________________________________\n",
      "conv2d_73 (Conv2D)           (None, 110, 110, 32)      2080      \n",
      "_________________________________________________________________\n",
      "activation_99 (Activation)   (None, 110, 110, 32)      0         \n",
      "_________________________________________________________________\n",
      "max_pooling2d_38 (MaxPooling (None, 55, 55, 32)        0         \n",
      "_________________________________________________________________\n",
      "conv2d_74 (Conv2D)           (None, 54, 54, 64)        8256      \n",
      "_________________________________________________________________\n",
      "activation_100 (Activation)  (None, 54, 54, 64)        0         \n",
      "_________________________________________________________________\n",
      "max_pooling2d_39 (MaxPooling (None, 27, 27, 64)        0         \n",
      "_________________________________________________________________\n",
      "conv2d_75 (Conv2D)           (None, 26, 26, 128)       32896     \n",
      "_________________________________________________________________\n",
      "activation_101 (Activation)  (None, 26, 26, 128)       0         \n",
      "_________________________________________________________________\n",
      "max_pooling2d_40 (MaxPooling (None, 13, 13, 128)       0         \n",
      "_________________________________________________________________\n",
      "conv2d_76 (Conv2D)           (None, 12, 12, 256)       131328    \n",
      "_________________________________________________________________\n",
      "activation_102 (Activation)  (None, 12, 12, 256)       0         \n",
      "_________________________________________________________________\n",
      "max_pooling2d_41 (MaxPooling (None, 6, 6, 256)         0         \n",
      "_________________________________________________________________\n",
      "global_average_pooling2d_10  (None, 256)               0         \n",
      "_________________________________________________________________\n",
      "dropout_5 (Dropout)          (None, 256)               0         \n",
      "_________________________________________________________________\n",
      "dense_16 (Dense)             (None, 512)               131584    \n",
      "_________________________________________________________________\n",
      "activation_103 (Activation)  (None, 512)               0         \n",
      "_________________________________________________________________\n",
      "dense_17 (Dense)             (None, 133)               68229     \n",
      "_________________________________________________________________\n",
      "activation_104 (Activation)  (None, 133)               0         \n",
      "=================================================================\n",
      "Total params: 374,581\n",
      "Trainable params: 374,581\n",
      "Non-trainable params: 0\n",
      "_________________________________________________________________\n"
     ]
    }
   ],
   "source": [
    "from keras.layers import Conv2D, MaxPooling2D, GlobalAveragePooling2D, BatchNormalization\n",
    "from keras.layers import Dropout, Flatten, Dense, Activation\n",
    "from keras.models import Sequential\n",
    "\n",
    "# I decided on 5 Conv2D+MaxPooling2D pairs, I tried more, I tried less...\n",
    "# Using multiple Dropout layers never worked out for me...\n",
    "# Using one or multiple BatchNormalization also never worked out for me.\n",
    "# I added a Dropout+Dense layer before the output layer, that might\n",
    "# and might not have improved my architecture, it's hard to tell.\n",
    "\n",
    "model = Sequential()\n",
    "\n",
    "#model.add(Dropout(0.2, input_shape=(224,224,3)))\n",
    "model.add(Conv2D(16, (2,2), strides=(1,1), padding='valid', input_shape=(224,224,3)))\n",
    "#model.add(BatchNormalization())\n",
    "model.add(Activation('relu'))\n",
    "model.add(MaxPooling2D(pool_size=(2,2)))\n",
    "\n",
    "#model.add(Dropout(0.2))\n",
    "model.add(Conv2D(32, (2,2), strides=(1,1), padding='valid'))\n",
    "#model.add(BatchNormalization())\n",
    "model.add(Activation('relu'))\n",
    "model.add(MaxPooling2D(pool_size=(2,2)))\n",
    "\n",
    "#model.add(Dropout(0.2))\n",
    "model.add(Conv2D(64, (2,2), strides=(1,1), padding='valid'))\n",
    "#model.add(BatchNormalization())\n",
    "model.add(Activation('relu'))\n",
    "model.add(MaxPooling2D(pool_size=(2,2)))\n",
    "\n",
    "#model.add(Dropout(0.2))\n",
    "model.add(Conv2D(128, (2,2), strides=(1,1), padding='valid'))\n",
    "#model.add(BatchNormalization())\n",
    "model.add(Activation('relu'))\n",
    "model.add(MaxPooling2D(pool_size=(2,2)))\n",
    "\n",
    "#model.add(Dropout(0.2))\n",
    "model.add(Conv2D(256, (2,2), strides=(1,1), padding='valid'))\n",
    "#model.add(BatchNormalization())\n",
    "model.add(Activation('relu'))\n",
    "model.add(MaxPooling2D(pool_size=(2,2)))\n",
    "\n",
    "#model.add(Dropout(0.2))\n",
    "#model.add(Conv2D(256, (2,2), strides=(1,1), padding='valid', activation='relu'))\n",
    "#model.add(BatchNormalization())\n",
    "#model.add(Activation('relu'))\n",
    "#model.add(MaxPooling2D(pool_size=(2,2)))\n",
    "\n",
    "#model.add(Dropout(0.2))\n",
    "model.add(GlobalAveragePooling2D())\n",
    "\n",
    "# This pair of Dropout / Dense layers caused loss and val_loss to go down hand in\n",
    "# hand a lot better during training. It felt better and gives a slight improvement.\n",
    "model.add(Dropout(0.2))\n",
    "model.add(Dense(512))\n",
    "#model.add(BatchNormalization())\n",
    "model.add(Activation('relu'))\n",
    "#model.add(Dense(128, activation='relu'))\n",
    "#model.add(Dense(128, activation='relu'))\n",
    "#model.add(Dense(128, activation='relu'))\n",
    "\n",
    "model.add(Dense(133))\n",
    "#model.add(BatchNormalization())\n",
    "model.add(Activation('softmax'))\n",
    "\n",
    "model.summary()"
   ]
  },
  {
   "cell_type": "markdown",
   "metadata": {},
   "source": [
    "### Compile the Model"
   ]
  },
  {
   "cell_type": "code",
   "execution_count": 70,
   "metadata": {
    "collapsed": true
   },
   "outputs": [],
   "source": [
    "model.compile(optimizer='rmsprop', loss='categorical_crossentropy', metrics=['accuracy'])"
   ]
  },
  {
   "cell_type": "markdown",
   "metadata": {},
   "source": [
    "### (IMPLEMENTATION) Train the Model\n",
    "\n",
    "Train your model in the code cell below.  Use model checkpointing to save the model that attains the best validation loss.\n",
    "\n",
    "You are welcome to [augment the training data](https://blog.keras.io/building-powerful-image-classification-models-using-very-little-data.html), but this is not a requirement. "
   ]
  },
  {
   "cell_type": "code",
   "execution_count": 71,
   "metadata": {},
   "outputs": [
    {
     "name": "stdout",
     "output_type": "stream",
     "text": [
      "Train on 6680 samples, validate on 835 samples\n",
      "Epoch 1/40\n",
      "6620/6680 [============================>.] - ETA: 0s - loss: 4.8841 - acc: 0.0082Epoch 00000: val_loss improved from inf to 4.87047, saving model to saved_models/weights.best.from_scratch.hdf5\n",
      "6680/6680 [==============================] - 7s - loss: 4.8840 - acc: 0.0081 - val_loss: 4.8705 - val_acc: 0.0084\n",
      "Epoch 2/40\n",
      "6620/6680 [============================>.] - ETA: 0s - loss: 4.8724 - acc: 0.0113Epoch 00001: val_loss improved from 4.87047 to 4.86277, saving model to saved_models/weights.best.from_scratch.hdf5\n",
      "6680/6680 [==============================] - 6s - loss: 4.8726 - acc: 0.0112 - val_loss: 4.8628 - val_acc: 0.0120\n",
      "Epoch 3/40\n",
      "6620/6680 [============================>.] - ETA: 0s - loss: 4.7807 - acc: 0.0183Epoch 00002: val_loss improved from 4.86277 to 4.68308, saving model to saved_models/weights.best.from_scratch.hdf5\n",
      "6680/6680 [==============================] - 6s - loss: 4.7813 - acc: 0.0181 - val_loss: 4.6831 - val_acc: 0.0287\n",
      "Epoch 4/40\n",
      "6620/6680 [============================>.] - ETA: 0s - loss: 4.6333 - acc: 0.0311Epoch 00003: val_loss improved from 4.68308 to 4.61057, saving model to saved_models/weights.best.from_scratch.hdf5\n",
      "6680/6680 [==============================] - 6s - loss: 4.6316 - acc: 0.0310 - val_loss: 4.6106 - val_acc: 0.0371\n",
      "Epoch 5/40\n",
      "6620/6680 [============================>.] - ETA: 0s - loss: 4.4843 - acc: 0.0440Epoch 00004: val_loss improved from 4.61057 to 4.42789, saving model to saved_models/weights.best.from_scratch.hdf5\n",
      "6680/6680 [==============================] - 6s - loss: 4.4835 - acc: 0.0442 - val_loss: 4.4279 - val_acc: 0.0371\n",
      "Epoch 6/40\n",
      "6620/6680 [============================>.] - ETA: 0s - loss: 4.3467 - acc: 0.0468Epoch 00005: val_loss improved from 4.42789 to 4.34165, saving model to saved_models/weights.best.from_scratch.hdf5\n",
      "6680/6680 [==============================] - 6s - loss: 4.3485 - acc: 0.0464 - val_loss: 4.3416 - val_acc: 0.0527\n",
      "Epoch 7/40\n",
      "6620/6680 [============================>.] - ETA: 0s - loss: 4.2478 - acc: 0.0544Epoch 00006: val_loss did not improve\n",
      "6680/6680 [==============================] - 6s - loss: 4.2487 - acc: 0.0542 - val_loss: 4.3608 - val_acc: 0.0431\n",
      "Epoch 8/40\n",
      "6620/6680 [============================>.] - ETA: 0s - loss: 4.1634 - acc: 0.0727Epoch 00007: val_loss improved from 4.34165 to 4.24742, saving model to saved_models/weights.best.from_scratch.hdf5\n",
      "6680/6680 [==============================] - 6s - loss: 4.1641 - acc: 0.0725 - val_loss: 4.2474 - val_acc: 0.0515\n",
      "Epoch 9/40\n",
      "6620/6680 [============================>.] - ETA: 0s - loss: 4.0738 - acc: 0.0699Epoch 00008: val_loss improved from 4.24742 to 4.10795, saving model to saved_models/weights.best.from_scratch.hdf5\n",
      "6680/6680 [==============================] - 6s - loss: 4.0738 - acc: 0.0698 - val_loss: 4.1079 - val_acc: 0.0575\n",
      "Epoch 10/40\n",
      "6620/6680 [============================>.] - ETA: 0s - loss: 3.9918 - acc: 0.0798Epoch 00009: val_loss improved from 4.10795 to 4.00360, saving model to saved_models/weights.best.from_scratch.hdf5\n",
      "6680/6680 [==============================] - 6s - loss: 3.9897 - acc: 0.0796 - val_loss: 4.0036 - val_acc: 0.0886\n",
      "Epoch 11/40\n",
      "6620/6680 [============================>.] - ETA: 0s - loss: 3.9157 - acc: 0.0941Epoch 00010: val_loss did not improve\n",
      "6680/6680 [==============================] - 6s - loss: 3.9154 - acc: 0.0942 - val_loss: 4.0751 - val_acc: 0.0790\n",
      "Epoch 12/40\n",
      "6620/6680 [============================>.] - ETA: 0s - loss: 3.8229 - acc: 0.1002Epoch 00011: val_loss improved from 4.00360 to 3.91177, saving model to saved_models/weights.best.from_scratch.hdf5\n",
      "6680/6680 [==============================] - 6s - loss: 3.8194 - acc: 0.1009 - val_loss: 3.9118 - val_acc: 0.0850\n",
      "Epoch 13/40\n",
      "6620/6680 [============================>.] - ETA: 0s - loss: 3.7337 - acc: 0.1128Epoch 00012: val_loss did not improve\n",
      "6680/6680 [==============================] - 6s - loss: 3.7359 - acc: 0.1126 - val_loss: 3.9198 - val_acc: 0.0778\n",
      "Epoch 14/40\n",
      "6620/6680 [============================>.] - ETA: 0s - loss: 3.6498 - acc: 0.1236Epoch 00013: val_loss improved from 3.91177 to 3.83086, saving model to saved_models/weights.best.from_scratch.hdf5\n",
      "6680/6680 [==============================] - 6s - loss: 3.6519 - acc: 0.1232 - val_loss: 3.8309 - val_acc: 0.1090\n",
      "Epoch 15/40\n",
      "6620/6680 [============================>.] - ETA: 0s - loss: 3.5791 - acc: 0.1317Epoch 00014: val_loss improved from 3.83086 to 3.77379, saving model to saved_models/weights.best.from_scratch.hdf5\n",
      "6680/6680 [==============================] - 6s - loss: 3.5780 - acc: 0.1323 - val_loss: 3.7738 - val_acc: 0.1246\n",
      "Epoch 16/40\n",
      "6620/6680 [============================>.] - ETA: 0s - loss: 3.5002 - acc: 0.1464Epoch 00015: val_loss improved from 3.77379 to 3.69493, saving model to saved_models/weights.best.from_scratch.hdf5\n",
      "6680/6680 [==============================] - 6s - loss: 3.5017 - acc: 0.1461 - val_loss: 3.6949 - val_acc: 0.1293\n",
      "Epoch 17/40\n",
      "6620/6680 [============================>.] - ETA: 0s - loss: 3.4167 - acc: 0.1544Epoch 00016: val_loss did not improve\n",
      "6680/6680 [==============================] - 6s - loss: 3.4131 - acc: 0.1554 - val_loss: 3.8187 - val_acc: 0.1246\n",
      "Epoch 18/40\n",
      "6620/6680 [============================>.] - ETA: 0s - loss: 3.3393 - acc: 0.1659Epoch 00017: val_loss improved from 3.69493 to 3.53713, saving model to saved_models/weights.best.from_scratch.hdf5\n",
      "6680/6680 [==============================] - 6s - loss: 3.3423 - acc: 0.1656 - val_loss: 3.5371 - val_acc: 0.1389\n",
      "Epoch 19/40\n",
      "6620/6680 [============================>.] - ETA: 0s - loss: 3.2721 - acc: 0.1841Epoch 00018: val_loss did not improve\n",
      "6680/6680 [==============================] - 6s - loss: 3.2724 - acc: 0.1843 - val_loss: 3.5605 - val_acc: 0.1521\n",
      "Epoch 20/40\n",
      "6620/6680 [============================>.] - ETA: 0s - loss: 3.1748 - acc: 0.1953Epoch 00019: val_loss improved from 3.53713 to 3.49285, saving model to saved_models/weights.best.from_scratch.hdf5\n",
      "6680/6680 [==============================] - 6s - loss: 3.1727 - acc: 0.1963 - val_loss: 3.4929 - val_acc: 0.1701\n",
      "Epoch 21/40\n",
      "6620/6680 [============================>.] - ETA: 0s - loss: 3.1041 - acc: 0.2059Epoch 00020: val_loss improved from 3.49285 to 3.36376, saving model to saved_models/weights.best.from_scratch.hdf5\n",
      "6680/6680 [==============================] - 6s - loss: 3.1076 - acc: 0.2049 - val_loss: 3.3638 - val_acc: 0.1725\n",
      "Epoch 22/40\n",
      "6620/6680 [============================>.] - ETA: 0s - loss: 3.0167 - acc: 0.2282Epoch 00021: val_loss did not improve\n",
      "6680/6680 [==============================] - 6s - loss: 3.0224 - acc: 0.2280 - val_loss: 3.5153 - val_acc: 0.1533\n",
      "Epoch 23/40\n",
      "6620/6680 [============================>.] - ETA: 0s - loss: 2.9274 - acc: 0.2409Epoch 00022: val_loss improved from 3.36376 to 3.28625, saving model to saved_models/weights.best.from_scratch.hdf5\n",
      "6680/6680 [==============================] - 6s - loss: 2.9256 - acc: 0.2421 - val_loss: 3.2863 - val_acc: 0.2060\n",
      "Epoch 24/40\n",
      "6620/6680 [============================>.] - ETA: 0s - loss: 2.8736 - acc: 0.2502Epoch 00023: val_loss did not improve\n",
      "6680/6680 [==============================] - 6s - loss: 2.8706 - acc: 0.2499 - val_loss: 3.5328 - val_acc: 0.1892\n",
      "Epoch 25/40\n",
      "6620/6680 [============================>.] - ETA: 0s - loss: 2.7867 - acc: 0.2699Epoch 00024: val_loss did not improve\n",
      "6680/6680 [==============================] - 6s - loss: 2.7867 - acc: 0.2695 - val_loss: 3.3731 - val_acc: 0.2000\n",
      "Epoch 26/40\n",
      "6620/6680 [============================>.] - ETA: 0s - loss: 2.7115 - acc: 0.2819Epoch 00025: val_loss did not improve\n",
      "6680/6680 [==============================] - 6s - loss: 2.7112 - acc: 0.2820 - val_loss: 3.4772 - val_acc: 0.1892\n",
      "Epoch 27/40\n",
      "6620/6680 [============================>.] - ETA: 0s - loss: 2.6351 - acc: 0.3018Epoch 00026: val_loss improved from 3.28625 to 3.26184, saving model to saved_models/weights.best.from_scratch.hdf5\n",
      "6680/6680 [==============================] - 6s - loss: 2.6305 - acc: 0.3034 - val_loss: 3.2618 - val_acc: 0.2383\n",
      "Epoch 28/40\n",
      "6620/6680 [============================>.] - ETA: 0s - loss: 2.5578 - acc: 0.3159Epoch 00027: val_loss improved from 3.26184 to 3.19468, saving model to saved_models/weights.best.from_scratch.hdf5\n"
     ]
    },
    {
     "name": "stdout",
     "output_type": "stream",
     "text": [
      "6680/6680 [==============================] - 7s - loss: 2.5573 - acc: 0.3160 - val_loss: 3.1947 - val_acc: 0.2180\n",
      "Epoch 29/40\n",
      "6620/6680 [============================>.] - ETA: 0s - loss: 2.4698 - acc: 0.3353Epoch 00028: val_loss did not improve\n",
      "6680/6680 [==============================] - 6s - loss: 2.4722 - acc: 0.3349 - val_loss: 3.4010 - val_acc: 0.1964\n",
      "Epoch 30/40\n",
      "6620/6680 [============================>.] - ETA: 0s - loss: 2.4079 - acc: 0.3486Epoch 00029: val_loss did not improve\n",
      "6680/6680 [==============================] - 6s - loss: 2.4077 - acc: 0.3490 - val_loss: 3.2345 - val_acc: 0.2263\n",
      "Epoch 31/40\n",
      "6620/6680 [============================>.] - ETA: 0s - loss: 2.3473 - acc: 0.3592Epoch 00030: val_loss did not improve\n",
      "6680/6680 [==============================] - 6s - loss: 2.3455 - acc: 0.3587 - val_loss: 3.2566 - val_acc: 0.2347\n",
      "Epoch 32/40\n",
      "6620/6680 [============================>.] - ETA: 0s - loss: 2.2799 - acc: 0.3755Epoch 00031: val_loss improved from 3.19468 to 3.18545, saving model to saved_models/weights.best.from_scratch.hdf5\n",
      "6680/6680 [==============================] - 6s - loss: 2.2760 - acc: 0.3760 - val_loss: 3.1854 - val_acc: 0.2299\n",
      "Epoch 33/40\n",
      "6620/6680 [============================>.] - ETA: 0s - loss: 2.2038 - acc: 0.3918Epoch 00032: val_loss improved from 3.18545 to 3.14791, saving model to saved_models/weights.best.from_scratch.hdf5\n",
      "6680/6680 [==============================] - 6s - loss: 2.2032 - acc: 0.3919 - val_loss: 3.1479 - val_acc: 0.2431\n",
      "Epoch 34/40\n",
      "6620/6680 [============================>.] - ETA: 0s - loss: 2.1532 - acc: 0.3973Epoch 00033: val_loss did not improve\n",
      "6680/6680 [==============================] - 6s - loss: 2.1545 - acc: 0.3975 - val_loss: 3.1569 - val_acc: 0.2419\n",
      "Epoch 35/40\n",
      "6620/6680 [============================>.] - ETA: 0s - loss: 2.0562 - acc: 0.4310Epoch 00034: val_loss improved from 3.14791 to 3.08871, saving model to saved_models/weights.best.from_scratch.hdf5\n",
      "6680/6680 [==============================] - 6s - loss: 2.0588 - acc: 0.4305 - val_loss: 3.0887 - val_acc: 0.2527\n",
      "Epoch 36/40\n",
      "6620/6680 [============================>.] - ETA: 0s - loss: 1.9850 - acc: 0.4343Epoch 00035: val_loss did not improve\n",
      "6680/6680 [==============================] - 6s - loss: 1.9845 - acc: 0.4341 - val_loss: 3.1603 - val_acc: 0.2527\n",
      "Epoch 37/40\n",
      "6620/6680 [============================>.] - ETA: 0s - loss: 1.9313 - acc: 0.4497Epoch 00036: val_loss did not improve\n",
      "6680/6680 [==============================] - 6s - loss: 1.9330 - acc: 0.4490 - val_loss: 3.1049 - val_acc: 0.2671\n",
      "Epoch 38/40\n",
      "6620/6680 [============================>.] - ETA: 0s - loss: 1.8482 - acc: 0.4760Epoch 00037: val_loss did not improve\n",
      "6680/6680 [==============================] - 6s - loss: 1.8524 - acc: 0.4737 - val_loss: 3.2527 - val_acc: 0.2407\n",
      "Epoch 39/40\n",
      "6620/6680 [============================>.] - ETA: 0s - loss: 1.7794 - acc: 0.4899Epoch 00038: val_loss did not improve\n",
      "6680/6680 [==============================] - 6s - loss: 1.7805 - acc: 0.4900 - val_loss: 3.1317 - val_acc: 0.2563\n",
      "Epoch 40/40\n",
      "6620/6680 [============================>.] - ETA: 0s - loss: 1.7132 - acc: 0.5051Epoch 00039: val_loss did not improve\n",
      "6680/6680 [==============================] - 6s - loss: 1.7110 - acc: 0.5052 - val_loss: 3.1900 - val_acc: 0.2874\n",
      "CPU times: user 3min 56s, sys: 27.9 s, total: 4min 24s\n",
      "Wall time: 4min 32s\n"
     ]
    }
   ],
   "source": [
    "%%time\n",
    "from keras.callbacks import ModelCheckpoint\n",
    "\n",
    "# avoid retraining on notebook re-run\n",
    "if (True):\n",
    "    ### DONE: specify the number of epochs that you would like to use to train the model.\n",
    "    epochs = 40\n",
    "\n",
    "    ### Do NOT modify the code below this line.\n",
    "    checkpointer = ModelCheckpoint(filepath='saved_models/final_weights.best.from_scratch.hdf5', \n",
    "                                   verbose=1, save_best_only=True)\n",
    "\n",
    "    model.fit(train_tensors, train_targets, \n",
    "          validation_data=(valid_tensors, valid_targets),\n",
    "          epochs=epochs, batch_size=20, callbacks=[checkpointer], verbose=1)"
   ]
  },
  {
   "cell_type": "markdown",
   "metadata": {},
   "source": [
    "### Load the Model with the Best Validation Loss"
   ]
  },
  {
   "cell_type": "code",
   "execution_count": 75,
   "metadata": {},
   "outputs": [],
   "source": [
    "model.load_weights('saved_models/final_weights.best.from_scratch.hdf5')"
   ]
  },
  {
   "cell_type": "markdown",
   "metadata": {},
   "source": [
    "### Test the Model\n",
    "\n",
    "Try out your model on the test dataset of dog images.  Ensure that your test accuracy is greater than 1%."
   ]
  },
  {
   "cell_type": "code",
   "execution_count": 76,
   "metadata": {},
   "outputs": [
    {
     "name": "stdout",
     "output_type": "stream",
     "text": [
      "Test accuracy: 24.4019%\n"
     ]
    }
   ],
   "source": [
    "# get index of predicted dog breed for each image in test set\n",
    "dog_breed_predictions = [np.argmax(model.predict(np.expand_dims(tensor, axis=0))) for tensor in test_tensors]\n",
    "\n",
    "# report test accuracy\n",
    "test_accuracy = 100*np.sum(np.array(dog_breed_predictions)==np.argmax(test_targets, axis=1))/len(dog_breed_predictions)\n",
    "print('Test accuracy: %.4f%%' % test_accuracy)\n",
    "\n",
    "# The accuracy is varying a lot with each training. The best training run got 33%."
   ]
  },
  {
   "cell_type": "markdown",
   "metadata": {},
   "source": [
    "---\n",
    "<a id='step4'></a>\n",
    "## Step 4: Use a CNN to Classify Dog Breeds\n",
    "\n",
    "To reduce training time without sacrificing accuracy, we show you how to train a CNN using transfer learning.  In the following step, you will get a chance to use transfer learning to train your own CNN.\n",
    "\n",
    "### Obtain Bottleneck Features"
   ]
  },
  {
   "cell_type": "code",
   "execution_count": 18,
   "metadata": {
    "collapsed": true
   },
   "outputs": [],
   "source": [
    "bottleneck_features = np.load('bottleneck_features/DogVGG16Data.npz')\n",
    "train_VGG16 = bottleneck_features['train']\n",
    "valid_VGG16 = bottleneck_features['valid']\n",
    "test_VGG16 = bottleneck_features['test']"
   ]
  },
  {
   "cell_type": "markdown",
   "metadata": {},
   "source": [
    "### Model Architecture\n",
    "\n",
    "The model uses the the pre-trained VGG-16 model as a fixed feature extractor, where the last convolutional output of VGG-16 is fed as input to our model.  We only add a global average pooling layer and a fully connected layer, where the latter contains one node for each dog category and is equipped with a softmax."
   ]
  },
  {
   "cell_type": "code",
   "execution_count": 19,
   "metadata": {},
   "outputs": [
    {
     "name": "stdout",
     "output_type": "stream",
     "text": [
      "_________________________________________________________________\n",
      "Layer (type)                 Output Shape              Param #   \n",
      "=================================================================\n",
      "global_average_pooling2d_2 ( (None, 512)               0         \n",
      "_________________________________________________________________\n",
      "dense_2 (Dense)              (None, 133)               68229     \n",
      "=================================================================\n",
      "Total params: 68,229\n",
      "Trainable params: 68,229\n",
      "Non-trainable params: 0\n",
      "_________________________________________________________________\n"
     ]
    }
   ],
   "source": [
    "VGG16_model = Sequential()\n",
    "VGG16_model.add(GlobalAveragePooling2D(input_shape=train_VGG16.shape[1:]))\n",
    "VGG16_model.add(Dense(133, activation='softmax'))\n",
    "\n",
    "VGG16_model.summary()"
   ]
  },
  {
   "cell_type": "markdown",
   "metadata": {},
   "source": [
    "### Compile the Model"
   ]
  },
  {
   "cell_type": "code",
   "execution_count": 20,
   "metadata": {
    "collapsed": true
   },
   "outputs": [],
   "source": [
    "VGG16_model.compile(loss='categorical_crossentropy', optimizer='rmsprop', metrics=['accuracy'])"
   ]
  },
  {
   "cell_type": "markdown",
   "metadata": {},
   "source": [
    "### Train the Model"
   ]
  },
  {
   "cell_type": "code",
   "execution_count": 21,
   "metadata": {},
   "outputs": [
    {
     "name": "stdout",
     "output_type": "stream",
     "text": [
      "Train on 6680 samples, validate on 835 samples\n",
      "Epoch 1/20\n",
      "6100/6680 [==========================>...] - ETA: 0s - loss: 12.3841 - acc: 0.1100Epoch 00000: val_loss improved from inf to 10.65599, saving model to saved_models/weights.best.VGG16.hdf5\n",
      "6680/6680 [==============================] - 0s - loss: 12.2286 - acc: 0.1180 - val_loss: 10.6560 - val_acc: 0.2180\n",
      "Epoch 2/20\n",
      "6140/6680 [==========================>...] - ETA: 0s - loss: 10.0107 - acc: 0.2796Epoch 00001: val_loss improved from 10.65599 to 10.03135, saving model to saved_models/weights.best.VGG16.hdf5\n",
      "6680/6680 [==============================] - 0s - loss: 9.9717 - acc: 0.2843 - val_loss: 10.0313 - val_acc: 0.2707\n",
      "Epoch 3/20\n",
      "6540/6680 [============================>.] - ETA: 0s - loss: 9.5156 - acc: 0.3479Epoch 00002: val_loss improved from 10.03135 to 9.91923, saving model to saved_models/weights.best.VGG16.hdf5\n",
      "6680/6680 [==============================] - 0s - loss: 9.5242 - acc: 0.3472 - val_loss: 9.9192 - val_acc: 0.3126\n",
      "Epoch 4/20\n",
      "6640/6680 [============================>.] - ETA: 0s - loss: 9.3215 - acc: 0.3768Epoch 00003: val_loss improved from 9.91923 to 9.80677, saving model to saved_models/weights.best.VGG16.hdf5\n",
      "6680/6680 [==============================] - 0s - loss: 9.3270 - acc: 0.3765 - val_loss: 9.8068 - val_acc: 0.3090\n",
      "Epoch 5/20\n",
      "6480/6680 [============================>.] - ETA: 0s - loss: 9.2297 - acc: 0.3943Epoch 00004: val_loss improved from 9.80677 to 9.77649, saving model to saved_models/weights.best.VGG16.hdf5\n",
      "6680/6680 [==============================] - 0s - loss: 9.2279 - acc: 0.3946 - val_loss: 9.7765 - val_acc: 0.3222\n",
      "Epoch 6/20\n",
      "6380/6680 [===========================>..] - ETA: 0s - loss: 9.1813 - acc: 0.4049Epoch 00005: val_loss did not improve\n",
      "6680/6680 [==============================] - 0s - loss: 9.1509 - acc: 0.4067 - val_loss: 9.7808 - val_acc: 0.3246\n",
      "Epoch 7/20\n",
      "6460/6680 [============================>.] - ETA: 0s - loss: 8.9824 - acc: 0.4175Epoch 00006: val_loss improved from 9.77649 to 9.60948, saving model to saved_models/weights.best.VGG16.hdf5\n",
      "6680/6680 [==============================] - 0s - loss: 8.9632 - acc: 0.4187 - val_loss: 9.6095 - val_acc: 0.3413\n",
      "Epoch 8/20\n",
      "6340/6680 [===========================>..] - ETA: 0s - loss: 8.8000 - acc: 0.4312Epoch 00007: val_loss improved from 9.60948 to 9.42848, saving model to saved_models/weights.best.VGG16.hdf5\n",
      "6680/6680 [==============================] - 0s - loss: 8.8437 - acc: 0.4280 - val_loss: 9.4285 - val_acc: 0.3353\n",
      "Epoch 9/20\n",
      "6480/6680 [============================>.] - ETA: 0s - loss: 8.7358 - acc: 0.4383Epoch 00008: val_loss improved from 9.42848 to 9.37776, saving model to saved_models/weights.best.VGG16.hdf5\n",
      "6680/6680 [==============================] - 0s - loss: 8.7284 - acc: 0.4388 - val_loss: 9.3778 - val_acc: 0.3533\n",
      "Epoch 10/20\n",
      "6460/6680 [============================>.] - ETA: 0s - loss: 8.4636 - acc: 0.4520Epoch 00009: val_loss improved from 9.37776 to 9.00778, saving model to saved_models/weights.best.VGG16.hdf5\n",
      "6680/6680 [==============================] - 0s - loss: 8.4552 - acc: 0.4524 - val_loss: 9.0078 - val_acc: 0.3629\n",
      "Epoch 11/20\n",
      "6420/6680 [===========================>..] - ETA: 0s - loss: 8.2570 - acc: 0.4678Epoch 00010: val_loss improved from 9.00778 to 8.92531, saving model to saved_models/weights.best.VGG16.hdf5\n",
      "6680/6680 [==============================] - 0s - loss: 8.2624 - acc: 0.4672 - val_loss: 8.9253 - val_acc: 0.3749\n",
      "Epoch 12/20\n",
      "6320/6680 [===========================>..] - ETA: 0s - loss: 8.2122 - acc: 0.4764Epoch 00011: val_loss did not improve\n",
      "6680/6680 [==============================] - 0s - loss: 8.2138 - acc: 0.4771 - val_loss: 8.9350 - val_acc: 0.3713\n",
      "Epoch 13/20\n",
      "6280/6680 [===========================>..] - ETA: 0s - loss: 8.1335 - acc: 0.4801Epoch 00012: val_loss improved from 8.92531 to 8.84019, saving model to saved_models/weights.best.VGG16.hdf5\n",
      "6680/6680 [==============================] - 0s - loss: 8.1405 - acc: 0.4793 - val_loss: 8.8402 - val_acc: 0.3808\n",
      "Epoch 14/20\n",
      "6380/6680 [===========================>..] - ETA: 0s - loss: 7.9677 - acc: 0.4889Epoch 00013: val_loss improved from 8.84019 to 8.63990, saving model to saved_models/weights.best.VGG16.hdf5\n",
      "6680/6680 [==============================] - 0s - loss: 7.9615 - acc: 0.4891 - val_loss: 8.6399 - val_acc: 0.3940\n",
      "Epoch 15/20\n",
      "6400/6680 [===========================>..] - ETA: 0s - loss: 7.8161 - acc: 0.5014Epoch 00014: val_loss improved from 8.63990 to 8.55962, saving model to saved_models/weights.best.VGG16.hdf5\n",
      "6680/6680 [==============================] - 0s - loss: 7.8114 - acc: 0.5015 - val_loss: 8.5596 - val_acc: 0.3880\n",
      "Epoch 16/20\n",
      "6400/6680 [===========================>..] - ETA: 0s - loss: 7.6634 - acc: 0.5100Epoch 00015: val_loss improved from 8.55962 to 8.49554, saving model to saved_models/weights.best.VGG16.hdf5\n",
      "6680/6680 [==============================] - 0s - loss: 7.6696 - acc: 0.5090 - val_loss: 8.4955 - val_acc: 0.4000\n",
      "Epoch 17/20\n",
      "6380/6680 [===========================>..] - ETA: 0s - loss: 7.5720 - acc: 0.5188Epoch 00016: val_loss improved from 8.49554 to 8.43038, saving model to saved_models/weights.best.VGG16.hdf5\n",
      "6680/6680 [==============================] - 0s - loss: 7.5689 - acc: 0.5190 - val_loss: 8.4304 - val_acc: 0.4012\n",
      "Epoch 18/20\n",
      "6300/6680 [===========================>..] - ETA: 0s - loss: 7.5652 - acc: 0.5225Epoch 00017: val_loss improved from 8.43038 to 8.28800, saving model to saved_models/weights.best.VGG16.hdf5\n",
      "6680/6680 [==============================] - 0s - loss: 7.5316 - acc: 0.5246 - val_loss: 8.2880 - val_acc: 0.4156\n",
      "Epoch 19/20\n",
      "6400/6680 [===========================>..] - ETA: 0s - loss: 7.4038 - acc: 0.5305Epoch 00018: val_loss improved from 8.28800 to 8.13179, saving model to saved_models/weights.best.VGG16.hdf5\n",
      "6680/6680 [==============================] - 0s - loss: 7.4145 - acc: 0.5298 - val_loss: 8.1318 - val_acc: 0.4287\n",
      "Epoch 20/20\n",
      "6380/6680 [===========================>..] - ETA: 0s - loss: 7.3797 - acc: 0.5357Epoch 00019: val_loss did not improve\n",
      "6680/6680 [==============================] - 0s - loss: 7.3780 - acc: 0.5358 - val_loss: 8.2130 - val_acc: 0.4192\n"
     ]
    },
    {
     "data": {
      "text/plain": [
       "<keras.callbacks.History at 0x7fe3a02f8978>"
      ]
     },
     "execution_count": 21,
     "metadata": {},
     "output_type": "execute_result"
    }
   ],
   "source": [
    "checkpointer = ModelCheckpoint(filepath='saved_models/final_weights.best.VGG16.hdf5', \n",
    "                               verbose=1, save_best_only=True)\n",
    "\n",
    "VGG16_model.fit(train_VGG16, train_targets, \n",
    "          validation_data=(valid_VGG16, valid_targets),\n",
    "          epochs=20, batch_size=20, callbacks=[checkpointer], verbose=1)"
   ]
  },
  {
   "cell_type": "markdown",
   "metadata": {},
   "source": [
    "### Load the Model with the Best Validation Loss"
   ]
  },
  {
   "cell_type": "code",
   "execution_count": 22,
   "metadata": {
    "collapsed": true
   },
   "outputs": [],
   "source": [
    "VGG16_model.load_weights('saved_models/final_weights.best.VGG16.hdf5')"
   ]
  },
  {
   "cell_type": "markdown",
   "metadata": {},
   "source": [
    "### Test the Model\n",
    "\n",
    "Now, we can use the CNN to test how well it identifies breed within our test dataset of dog images.  We print the test accuracy below."
   ]
  },
  {
   "cell_type": "code",
   "execution_count": 23,
   "metadata": {},
   "outputs": [
    {
     "name": "stdout",
     "output_type": "stream",
     "text": [
      "Test accuracy: 43.0622%\n"
     ]
    }
   ],
   "source": [
    "# get index of predicted dog breed for each image in test set\n",
    "VGG16_predictions = [np.argmax(VGG16_model.predict(np.expand_dims(feature, axis=0))) for feature in test_VGG16]\n",
    "\n",
    "# report test accuracy\n",
    "test_accuracy = 100*np.sum(np.array(VGG16_predictions)==np.argmax(test_targets, axis=1))/len(VGG16_predictions)\n",
    "print('Test accuracy: %.4f%%' % test_accuracy)"
   ]
  },
  {
   "cell_type": "markdown",
   "metadata": {},
   "source": [
    "### Predict Dog Breed with the Model"
   ]
  },
  {
   "cell_type": "code",
   "execution_count": 24,
   "metadata": {
    "collapsed": true
   },
   "outputs": [],
   "source": [
    "from extract_bottleneck_features import *\n",
    "\n",
    "def VGG16_predict_breed(img_path):\n",
    "    # extract bottleneck features\n",
    "    bottleneck_feature = extract_VGG16(path_to_tensor(img_path))\n",
    "    # obtain predicted vector\n",
    "    predicted_vector = VGG16_model.predict(bottleneck_feature)\n",
    "    # return dog breed that is predicted by the model\n",
    "    return dog_names[np.argmax(predicted_vector)]"
   ]
  },
  {
   "cell_type": "markdown",
   "metadata": {},
   "source": [
    "---\n",
    "<a id='step5'></a>\n",
    "## Step 5: Create a CNN to Classify Dog Breeds (using Transfer Learning)\n",
    "\n",
    "You will now use transfer learning to create a CNN that can identify dog breed from images.  Your CNN must attain at least 60% accuracy on the test set.\n",
    "\n",
    "In Step 4, we used transfer learning to create a CNN using VGG-16 bottleneck features.  In this section, you must use the bottleneck features from a different pre-trained model.  To make things easier for you, we have pre-computed the features for all of the networks that are currently available in Keras:\n",
    "- [VGG-19](https://s3-us-west-1.amazonaws.com/udacity-aind/dog-project/DogVGG19Data.npz) bottleneck features\n",
    "- [ResNet-50](https://s3-us-west-1.amazonaws.com/udacity-aind/dog-project/DogResnet50Data.npz) bottleneck features\n",
    "- [Inception](https://s3-us-west-1.amazonaws.com/udacity-aind/dog-project/DogInceptionV3Data.npz) bottleneck features\n",
    "- [Xception](https://s3-us-west-1.amazonaws.com/udacity-aind/dog-project/DogXceptionData.npz) bottleneck features\n",
    "\n",
    "The files are encoded as such:\n",
    "\n",
    "    Dog{network}Data.npz\n",
    "    \n",
    "where `{network}`, in the above filename, can be one of `VGG19`, `Resnet50`, `InceptionV3`, or `Xception`.  Pick one of the above architectures, download the corresponding bottleneck features, and store the downloaded file in the `bottleneck_features/` folder in the repository.\n",
    "\n",
    "### (IMPLEMENTATION) Obtain Bottleneck Features\n",
    "\n",
    "In the code block below, extract the bottleneck features corresponding to the train, test, and validation sets by running the following:\n",
    "\n",
    "    bottleneck_features = np.load('bottleneck_features/Dog{network}Data.npz')\n",
    "    train_{network} = bottleneck_features['train']\n",
    "    valid_{network} = bottleneck_features['valid']\n",
    "    test_{network} = bottleneck_features['test']"
   ]
  },
  {
   "cell_type": "code",
   "execution_count": 25,
   "metadata": {
    "collapsed": true
   },
   "outputs": [],
   "source": [
    "arch = ['VGG16', 'VGG19', 'Resnet50', 'InceptionV3', 'Xception'][4]"
   ]
  },
  {
   "cell_type": "code",
   "execution_count": 26,
   "metadata": {
    "collapsed": true
   },
   "outputs": [],
   "source": [
    "### DONE: Obtain bottleneck features from another pre-trained CNN.\n",
    "bottleneck_features = np.load('bottleneck_features/Dog' + arch + 'Data.npz')\n",
    "train_chosen_arch = bottleneck_features['train']\n",
    "valid_chosen_arch = bottleneck_features['valid']\n",
    "test_chosen_arch = bottleneck_features['test']"
   ]
  },
  {
   "cell_type": "markdown",
   "metadata": {},
   "source": [
    "### (IMPLEMENTATION) Model Architecture\n",
    "\n",
    "Create a CNN to classify dog breed.  At the end of your code cell block, summarize the layers of your model by executing the line:\n",
    "    \n",
    "        <your model's name>.summary()\n",
    "   \n",
    "__Question 5:__ Outline the steps you took to get to your final CNN architecture and your reasoning at each step.  Describe why you think the architecture is suitable for the current problem."
   ]
  },
  {
   "cell_type": "markdown",
   "metadata": {},
   "source": [
    "__Answer 5:__ \n",
    "\n",
    "#### Comparison of models\n",
    "\n",
    "I tried transfer learning on all the architectures, and found that the VGG networks were a lot worse, but the others were similar in performance. I ended up choosing to use the InceptionV3 model instead of Xception with the best performance though, because it Xception tended to classify humans as a specific dog breed all the time, which wasn't amusing enough.\n",
    "\n",
    "Architecture 1|Input filters|Total params*|Training time|Train acc.\\**|Val acc.\\**|Best test acc.|Best epoch\n",
    "-|-|-|-|-|-|-\n",
    "VGG16|512|68k|13|41%|35%|35%|20\n",
    "VGG19|512|68k|13|58%|48%|47%|20\n",
    "ResNet50|2048|273k|17|96% (100%)|82% (81%)|80%|5\n",
    "InceptionV3|2048|273k|21|86% (99%)|83% (84%)|80%|2\n",
    "Xception|2048|273k|28|90% (98%)|85% (86%)|84%|3\n",
    "\n",
    "\\* Among the transfer learning layers of the architecture, not the full model.\n",
    "\n",
    "\\*\\* Values in parenthesis represents accuracy after all training epochs - not necessarily the state of the model with the lowest validation loss.\n",
    "\n",
    "#### Improving the transfer learning architecture\n",
    "\n",
    "* I tried adding one additional dense layer, as suggested in [this instruction video](https://www.youtube.com/watch?v=LHG5FltaR6I&t=2m29s) with the remark \"... then we can add __one or two more__, and train only the final layer.\". - This did not yield better test scores.\n",
    "\n",
    "* I experimented using Dropout layers to combat overfitting, but that didn't seem to help significantly, it rather seemed to make it worse.\n",
    "\n",
    "* POST REVIEW UPDATE: I added one single batch normalization layer in between the activation and the Dense layer and got slightly better results! 84% test acc. became 86%."
   ]
  },
  {
   "cell_type": "markdown",
   "metadata": {},
   "source": [
    "#### Why did VGG16/19 performed noticably worse than ResNet/Inception/Xception?\n",
    "\n",
    "* Idea 1: The output from the VGG models (VGG16, VGG19) were 512 compared to 2048 for the other architectures (ResNet50, InceptionV3, Xception). Apparently it was easier to find relevant output to identify dogs in the latter architectures - they could potentially convey more detailed information about the picture. *Building on more knowledge yielded better results.*\n",
    "* Idea 2: The quality of the output from the models vary in quality for the task for classifying dogs, the output is after all generated from different architectures and that is influencing how well they were trained. Perhaps ResNet50, InceptionV3 and Xception was better trained due to their architecture, data augmentation or epoch count etc? *Building on higher quality yields better results.*"
   ]
  },
  {
   "cell_type": "code",
   "execution_count": 27,
   "metadata": {},
   "outputs": [
    {
     "name": "stdout",
     "output_type": "stream",
     "text": [
      "_________________________________________________________________\n",
      "Layer (type)                 Output Shape              Param #   \n",
      "=================================================================\n",
      "global_average_pooling2d_3 ( (None, 2048)              0         \n",
      "_________________________________________________________________\n",
      "dense_3 (Dense)              (None, 133)               272517    \n",
      "_________________________________________________________________\n",
      "batch_normalization_1 (Batch (None, 133)               532       \n",
      "_________________________________________________________________\n",
      "activation_56 (Activation)   (None, 133)               0         \n",
      "=================================================================\n",
      "Total params: 273,049\n",
      "Trainable params: 272,783\n",
      "Non-trainable params: 266\n",
      "_________________________________________________________________\n"
     ]
    }
   ],
   "source": [
    "### DONE: Define your architecture.\n",
    "chosen_arch_model = Sequential()\n",
    "chosen_arch_model.add(GlobalAveragePooling2D(input_shape=train_chosen_arch.shape[1:]))\n",
    "chosen_arch_model.add(Dense(133))\n",
    "chosen_arch_model.add(BatchNormalization()) # POST REVIEW UPDATE: BatchNormalization indeed helped!\n",
    "chosen_arch_model.add(Activation('softmax'))\n",
    "\n",
    "chosen_arch_model.summary()"
   ]
  },
  {
   "cell_type": "markdown",
   "metadata": {},
   "source": [
    "### (IMPLEMENTATION) Compile the Model"
   ]
  },
  {
   "cell_type": "code",
   "execution_count": 28,
   "metadata": {
    "collapsed": true
   },
   "outputs": [],
   "source": [
    "### DONE: Compile the model.\n",
    "chosen_arch_model.compile(loss='categorical_crossentropy', optimizer='rmsprop', metrics=['accuracy'])"
   ]
  },
  {
   "cell_type": "markdown",
   "metadata": {},
   "source": [
    "### (IMPLEMENTATION) Train the Model\n",
    "\n",
    "Train your model in the code cell below.  Use model checkpointing to save the model that attains the best validation loss.  \n",
    "\n",
    "You are welcome to [augment the training data](https://blog.keras.io/building-powerful-image-classification-models-using-very-little-data.html), but this is not a requirement. "
   ]
  },
  {
   "cell_type": "code",
   "execution_count": 29,
   "metadata": {
    "scrolled": true
   },
   "outputs": [
    {
     "name": "stdout",
     "output_type": "stream",
     "text": [
      "Train on 6680 samples, validate on 835 samples\n",
      "Epoch 1/20\n",
      "6620/6680 [============================>.] - ETA: 0s - loss: 2.3939 - acc: 0.6391Epoch 00000: val_loss improved from inf to 0.93995, saving model to saved_models/weights.best.Xception.hdf5\n",
      "6680/6680 [==============================] - 1s - loss: 2.3898 - acc: 0.6395 - val_loss: 0.9399 - val_acc: 0.7964\n",
      "Epoch 2/20\n",
      "6440/6680 [===========================>..] - ETA: 0s - loss: 1.8171 - acc: 0.7783Epoch 00001: val_loss improved from 0.93995 to 0.81660, saving model to saved_models/weights.best.Xception.hdf5\n",
      "6680/6680 [==============================] - 1s - loss: 1.8131 - acc: 0.7777 - val_loss: 0.8166 - val_acc: 0.8287\n",
      "Epoch 3/20\n",
      "6640/6680 [============================>.] - ETA: 0s - loss: 1.5877 - acc: 0.8148Epoch 00002: val_loss improved from 0.81660 to 0.76583, saving model to saved_models/weights.best.Xception.hdf5\n",
      "6680/6680 [==============================] - 1s - loss: 1.5870 - acc: 0.8148 - val_loss: 0.7658 - val_acc: 0.8335\n",
      "Epoch 4/20\n",
      "6400/6680 [===========================>..] - ETA: 0s - loss: 1.4158 - acc: 0.8334Epoch 00003: val_loss improved from 0.76583 to 0.71649, saving model to saved_models/weights.best.Xception.hdf5\n",
      "6680/6680 [==============================] - 1s - loss: 1.4129 - acc: 0.8335 - val_loss: 0.7165 - val_acc: 0.8311\n",
      "Epoch 5/20\n",
      "6640/6680 [============================>.] - ETA: 0s - loss: 1.2553 - acc: 0.8562Epoch 00004: val_loss improved from 0.71649 to 0.69063, saving model to saved_models/weights.best.Xception.hdf5\n",
      "6680/6680 [==============================] - 1s - loss: 1.2556 - acc: 0.8557 - val_loss: 0.6906 - val_acc: 0.8503\n",
      "Epoch 6/20\n",
      "6480/6680 [============================>.] - ETA: 0s - loss: 1.1245 - acc: 0.8674Epoch 00005: val_loss improved from 0.69063 to 0.66615, saving model to saved_models/weights.best.Xception.hdf5\n",
      "6680/6680 [==============================] - 1s - loss: 1.1222 - acc: 0.8681 - val_loss: 0.6662 - val_acc: 0.8419\n",
      "Epoch 7/20\n",
      "6480/6680 [============================>.] - ETA: 0s - loss: 1.0069 - acc: 0.8790Epoch 00006: val_loss did not improve\n",
      "6680/6680 [==============================] - 1s - loss: 1.0029 - acc: 0.8795 - val_loss: 0.6807 - val_acc: 0.8371\n",
      "Epoch 8/20\n",
      "6440/6680 [===========================>..] - ETA: 0s - loss: 0.9148 - acc: 0.8922Epoch 00007: val_loss improved from 0.66615 to 0.65366, saving model to saved_models/weights.best.Xception.hdf5\n",
      "6680/6680 [==============================] - 1s - loss: 0.9135 - acc: 0.8921 - val_loss: 0.6537 - val_acc: 0.8431\n",
      "Epoch 9/20\n",
      "6460/6680 [============================>.] - ETA: 0s - loss: 0.8272 - acc: 0.9031Epoch 00008: val_loss improved from 0.65366 to 0.64139, saving model to saved_models/weights.best.Xception.hdf5\n",
      "6680/6680 [==============================] - 1s - loss: 0.8269 - acc: 0.9030 - val_loss: 0.6414 - val_acc: 0.8539\n",
      "Epoch 10/20\n",
      "6600/6680 [============================>.] - ETA: 0s - loss: 0.7353 - acc: 0.9117Epoch 00009: val_loss did not improve\n",
      "6680/6680 [==============================] - 1s - loss: 0.7352 - acc: 0.9112 - val_loss: 0.6534 - val_acc: 0.8491\n",
      "Epoch 11/20\n",
      "6540/6680 [============================>.] - ETA: 0s - loss: 0.6841 - acc: 0.9139Epoch 00010: val_loss did not improve\n",
      "6680/6680 [==============================] - 1s - loss: 0.6836 - acc: 0.9148 - val_loss: 0.6469 - val_acc: 0.8539\n",
      "Epoch 12/20\n",
      "6560/6680 [============================>.] - ETA: 0s - loss: 0.6149 - acc: 0.9238Epoch 00011: val_loss did not improve\n",
      "6680/6680 [==============================] - 1s - loss: 0.6156 - acc: 0.9234 - val_loss: 0.6786 - val_acc: 0.8395\n",
      "Epoch 13/20\n",
      "6540/6680 [============================>.] - ETA: 0s - loss: 0.5636 - acc: 0.9295Epoch 00012: val_loss improved from 0.64139 to 0.63550, saving model to saved_models/weights.best.Xception.hdf5\n",
      "6680/6680 [==============================] - 1s - loss: 0.5620 - acc: 0.9299 - val_loss: 0.6355 - val_acc: 0.8503\n",
      "Epoch 14/20\n",
      "6560/6680 [============================>.] - ETA: 0s - loss: 0.5175 - acc: 0.9360Epoch 00013: val_loss did not improve\n",
      "6680/6680 [==============================] - 1s - loss: 0.5168 - acc: 0.9364 - val_loss: 0.6540 - val_acc: 0.8599\n",
      "Epoch 15/20\n",
      "6600/6680 [============================>.] - ETA: 0s - loss: 0.4867 - acc: 0.9405Epoch 00014: val_loss did not improve\n",
      "6680/6680 [==============================] - 1s - loss: 0.4861 - acc: 0.9403 - val_loss: 0.6423 - val_acc: 0.8539\n",
      "Epoch 16/20\n",
      "6560/6680 [============================>.] - ETA: 0s - loss: 0.4429 - acc: 0.9422Epoch 00015: val_loss did not improve\n",
      "6680/6680 [==============================] - 1s - loss: 0.4437 - acc: 0.9413 - val_loss: 0.6484 - val_acc: 0.8539\n",
      "Epoch 17/20\n",
      "6560/6680 [============================>.] - ETA: 0s - loss: 0.4162 - acc: 0.9453Epoch 00016: val_loss did not improve\n",
      "6680/6680 [==============================] - 1s - loss: 0.4158 - acc: 0.9449 - val_loss: 0.6566 - val_acc: 0.8455\n",
      "Epoch 18/20\n",
      "6580/6680 [============================>.] - ETA: 0s - loss: 0.3808 - acc: 0.9502Epoch 00017: val_loss did not improve\n",
      "6680/6680 [==============================] - 1s - loss: 0.3807 - acc: 0.9499 - val_loss: 0.6749 - val_acc: 0.8443\n",
      "Epoch 19/20\n",
      "6540/6680 [============================>.] - ETA: 0s - loss: 0.3654 - acc: 0.9543Epoch 00018: val_loss did not improve\n",
      "6680/6680 [==============================] - 1s - loss: 0.3642 - acc: 0.9546 - val_loss: 0.6646 - val_acc: 0.8455\n",
      "Epoch 20/20\n",
      "6580/6680 [============================>.] - ETA: 0s - loss: 0.3376 - acc: 0.9567Epoch 00019: val_loss did not improve\n",
      "6680/6680 [==============================] - 1s - loss: 0.3382 - acc: 0.9566 - val_loss: 0.6475 - val_acc: 0.8539\n",
      "CPU times: user 37.8 s, sys: 2.37 s, total: 40.2 s\n",
      "Wall time: 26.2 s\n"
     ]
    }
   ],
   "source": [
    "%%time\n",
    "### DONE: Train the model.\n",
    "# avoid retraining on notebook re-run\n",
    "if (True):\n",
    "    checkpointer = ModelCheckpoint(filepath='saved_models/final_weights.best.' + arch + '.hdf5', \n",
    "                                   verbose=1, save_best_only=True)\n",
    "\n",
    "    chosen_arch_model.fit(train_chosen_arch, train_targets, \n",
    "              validation_data=(valid_chosen_arch, valid_targets),\n",
    "              epochs=20, batch_size=20, callbacks=[checkpointer], verbose=1)"
   ]
  },
  {
   "cell_type": "markdown",
   "metadata": {},
   "source": [
    "### (IMPLEMENTATION) Load the Model with the Best Validation Loss"
   ]
  },
  {
   "cell_type": "code",
   "execution_count": 73,
   "metadata": {
    "collapsed": true
   },
   "outputs": [],
   "source": [
    "### DONE: Load the model weights with the best validation loss.\n",
    "chosen_arch_model.load_weights('saved_models/final_weights.best.' + arch + '.hdf5')"
   ]
  },
  {
   "cell_type": "markdown",
   "metadata": {},
   "source": [
    "### (IMPLEMENTATION) Test the Model\n",
    "\n",
    "Try out your model on the test dataset of dog images. Ensure that your test accuracy is greater than 60%."
   ]
  },
  {
   "cell_type": "code",
   "execution_count": 74,
   "metadata": {
    "scrolled": true
   },
   "outputs": [
    {
     "name": "stdout",
     "output_type": "stream",
     "text": [
      "Test accuracy: 86.0048%\n"
     ]
    }
   ],
   "source": [
    "### DONE: Calculate classification accuracy on the test dataset.\n",
    "# get index of predicted dog breed for each image in test set\n",
    "chosen_arch_predictions = [np.argmax(chosen_arch_model.predict(np.expand_dims(feature, axis=0))) for feature in test_chosen_arch]\n",
    "\n",
    "# report test accuracy\n",
    "test_accuracy = 100*np.sum(np.array(chosen_arch_predictions)==np.argmax(test_targets, axis=1))/len(chosen_arch_predictions)\n",
    "print('Test accuracy: %.4f%%' % test_accuracy)"
   ]
  },
  {
   "cell_type": "markdown",
   "metadata": {},
   "source": [
    "### (IMPLEMENTATION) Predict Dog Breed with the Model\n",
    "\n",
    "Write a function that takes an image path as input and returns the dog breed (`Affenpinscher`, `Afghan_hound`, etc) that is predicted by your model.  \n",
    "\n",
    "Similar to the analogous function in Step 5, your function should have three steps:\n",
    "1. Extract the bottleneck features corresponding to the chosen_arch CNN model.\n",
    "2. Supply the bottleneck features as input to the model to return the predicted vector.  Note that the argmax of this prediction vector gives the index of the predicted dog breed.\n",
    "3. Use the `dog_names` array defined in Step 0 of this notebook to return the corresponding breed.\n",
    "\n",
    "The functions to extract the bottleneck features can be found in `extract_bottleneck_features.py`, and they have been imported in an earlier code cell.  To obtain the bottleneck features corresponding to your chosen_arch CNN architecture, you need to use the function\n",
    "\n",
    "    extract_{network}\n",
    "    \n",
    "where `{network}`, in the above filename, should be one of `VGG19`, `Resnet50`, `InceptionV3`, or `Xception`."
   ]
  },
  {
   "cell_type": "code",
   "execution_count": 32,
   "metadata": {
    "collapsed": true
   },
   "outputs": [],
   "source": [
    "### DONE: Write a function that takes a path to an image as input\n",
    "### and returns the dog breed that is predicted by the model.\n",
    "import extract_bottleneck_features\n",
    "\n",
    "extract_chosen_arch = getattr(extract_bottleneck_features, 'extract_' + arch)\n",
    "\n",
    "def find_dog_breed_images(dog_breed, path='dogImages/valid'):\n",
    "    \"\"\"Returns image paths for a given dog breed.\"\"\"\n",
    "    for root, dirs, files in os.walk(path):\n",
    "        for d in dirs:\n",
    "            if fnmatch.fnmatch(d, '???.'+dog_breed):\n",
    "                dog_breed_path = os.path.join(root, d)\n",
    "                _, _, dog_breed_images = os.walk(dog_breed_path).__next__()\n",
    "                \n",
    "                return [os.path.join(dog_breed_path, img) for img in dog_breed_images]\n",
    "\n",
    "def chosen_arch_predict_breeds(img_path, top=5):\n",
    "    \"\"\"Returns a list of tuples representing the top predicted breeds: (breed, confidence, breed_img_paths)\"\"\"\n",
    "    \n",
    "    # extract bottleneck features\n",
    "    bottleneck_feature = extract_chosen_arch(path_to_tensor(img_path))\n",
    "    # obtain predicted vector\n",
    "    predicted_vector = chosen_arch_model.predict(bottleneck_feature)\n",
    "    \n",
    "    # get the top predictions\n",
    "    top_indices = reversed(predicted_vector.argsort()[0][-top:])\n",
    "    \n",
    "    return [(dog_names[i], predicted_vector[0][i], find_dog_breed_images(dog_names[i])) for i in top_indices]"
   ]
  },
  {
   "cell_type": "markdown",
   "metadata": {},
   "source": [
    "---\n",
    "<a id='step6'></a>\n",
    "## Step 6: Write your Algorithm\n",
    "\n",
    "Write an algorithm that accepts a file path to an image and first determines whether the image contains a human, dog, or neither.  Then,\n",
    "- if a __dog__ is detected in the image, return the predicted breed.\n",
    "- if a __human__ is detected in the image, return the resembling dog breed.\n",
    "- if __neither__ is detected in the image, provide output that indicates an error.\n",
    "\n",
    "You are welcome to write your own functions for detecting humans and dogs in images, but feel free to use the `face_detector` and `dog_detector` functions developed above.  You are __required__ to use your CNN from Step 5 to predict dog breed.  \n",
    "\n",
    "Some sample output for our algorithm is provided below, but feel free to design your own user experience!\n",
    "\n",
    "![Sample Human Output](images/sample_human_output.png)\n",
    "\n",
    "\n",
    "### (IMPLEMENTATION) Write your Algorithm"
   ]
  },
  {
   "cell_type": "code",
   "execution_count": 33,
   "metadata": {
    "collapsed": true
   },
   "outputs": [],
   "source": [
    "import os\n",
    "\n",
    "### DONE: Write your algorithm.\n",
    "def dog_analyzer(img_path):\n",
    "    \"\"\"Looks for dogs and humans in a provided image and suggest\n",
    "    what dog breed is matching the dog or person best.\"\"\"\n",
    "    \n",
    "    if not os.path.isfile(img_path):\n",
    "        raise FileNotFoundError(img_path)\n",
    "    \n",
    "    is_dog = dog_detector(img_path)\n",
    "    is_human = face_detector(img_path)\n",
    "    kind = None\n",
    "    breed = None\n",
    "    \n",
    "    if is_dog:\n",
    "        kind = 'dog'\n",
    "    elif is_human:\n",
    "        kind = 'human'\n",
    "    else:\n",
    "        kind = 'unknown'\n",
    "    \n",
    "    breed, confidence, breed_img_path = chosen_arch_predict_breeds(img_path)[0]\n",
    "    \n",
    "    return kind, breed, confidence, img_path, breed_img_path"
   ]
  },
  {
   "cell_type": "code",
   "execution_count": 34,
   "metadata": {
    "collapsed": true
   },
   "outputs": [],
   "source": [
    "from IPython.display import Markdown, HTML\n",
    "import fnmatch\n",
    "\n",
    "def dog_analyzer_pretty(img_paths):\n",
    "    imgs = [dog_analyzer(img_path) for img_path in img_paths]\n",
    "    \n",
    "    for i, img in enumerate(imgs):\n",
    "        kind, breed, confidence, provided_img, dog_breed_imgs = img\n",
    "                \n",
    "        display(HTML(\"\"\"\n",
    "        <table width=\"100%\">\n",
    "            <thead>\n",
    "                <tr>\n",
    "                    <th colspan=\"2\" width=\"50%\" style=\"text-align:left\">Input - A photo of a: {} (?)</th>\n",
    "                    <th colspan=\"2\" width=\"50%\" style=\"text-align:left\">Output - Dog breed prediction: {} ({:.2f}% confidence)</th>\n",
    "                </tr>\n",
    "            </thead>\n",
    "            <tbody>\n",
    "                <tr>\n",
    "                    <td colspan=\"2\" width=\"50%\" style=\"text-align:left\"><img width=\"100%\" src=\"{}\"></td>\n",
    "                    <td colspan=\"2\" width=\"50%\" style=\"text-align:left\"><img width=\"100%\" src=\"{}\"></td>\n",
    "                </tr>\n",
    "            </tbody>\n",
    "        </table>\n",
    "        \"\"\".format(kind, breed, confidence*100, provided_img, dog_breed_imgs[0]))) #, *dog_breed_imgs\n",
    "        # I gave four additional examples of the predicted dog breed, it was simply too much...\n",
    "        #<!--<tr>\n",
    "        #    <td width=\"25%\" style=\"text-align:left\"><img width=\"100%\" src=\"{}\"></td>\n",
    "        #    <td width=\"25%\" style=\"text-align:left\"><img width=\"100%\" src=\"{}\"></td>\n",
    "        #    <td width=\"25%\" style=\"text-align:left\"><img width=\"100%\" src=\"{}\"></td>\n",
    "        #    <td width=\"25%\" style=\"text-align:left\"><img width=\"100%\" src=\"{}\"></td>\n",
    "        #</tr>-->"
   ]
  },
  {
   "cell_type": "markdown",
   "metadata": {},
   "source": [
    "---\n",
    "<a id='step7'></a>\n",
    "## Step 7: Test Your Algorithm\n",
    "\n",
    "In this section, you will take your new algorithm for a spin!  What kind of dog does the algorithm think that __you__ look like?  If you have a dog, does it predict your dog's breed accurately?  If you have a cat, does it mistakenly think that your cat is a dog?\n",
    "\n",
    "### (IMPLEMENTATION) Test Your Algorithm on Sample Images!\n",
    "\n",
    "Test your algorithm at least six images on your computer.  Feel free to use any images you like.  Use at least two human and two dog images.  \n",
    "\n",
    "__Question 6:__ Is the output better than you expected :) ?  Or worse :( ?  Provide at least three possible points of improvement for your algorithm."
   ]
  },
  {
   "cell_type": "markdown",
   "metadata": {},
   "source": [
    "__Answer 6:__\n",
    "\n",
    "#### Summary\n",
    "My model is based on InceptionV3, it was retrofitted for dog breed classification with transfer learning without modifying any of the weights of InceptionV3 model. It works quite well but the outcome often changes in between trainings - the extend of this variation surprised me and disappointed me a bit. But otherwise it performed similarly to my expectations.\n",
    "\n",
    "#### What you will see below\n",
    "* four pictures of dogs\n",
    "* two pictures of me\n",
    "* three pictures of other animals (koala, bear, alpaca)\n",
    "\n",
    "#### Observations\n",
    "* The `dog_dector` (ResNet50) dog or not classification worked great on all pictures and wasn't fooled by other animals.\n",
    "* The human classification (based on human face detection) was tried on the six non-dog pictures made a mistake on the alpaca and believed (because it perceived the lamas face as a human face).\n",
    "* The confidence on the dog classifier was very high on the dogs in comparison to all other pictures.\n",
    "* Training can yield quite different outcomes in performance (81%-85%) on the test set and on my own input images.\n",
    "* Sometimes the model seemingly ends up to favor one kind of breed a lot when I give it images of something else entirely.\n",
    "\n",
    "#### Suggested improvements\n",
    "> NOTE: To me, it is obvious what kind of improvements are asked for in the question, so I decided on focusing on improvements surrounding ML rather than the user experience.\n",
    "\n",
    "* The fine tune training overfitted the network greatly, reaching very high training accuracy while the validation and test accuracy were a lot lower. This caused a lot of the later epochs to be pointless, as the overfitting never yielded a better model. Perhaps I could add a dropout layer or similar to combat this?\n",
    "* The `face_detector` is used to determine if it is a human - this is too simple. Humans should be detected no matter if their face is visible or not. I was provided a ResNet50 model trained to detect dogs, perhaps I'd try to do the same thing for humans, but while I'm at it also detect dogs and make a `dog_human_detector` function instead.\n",
    "* I could make a fine tuning of the full architecture to make it more dedicated on finding dog relevant features, enabling better predictions of dogs in the end.\n",
    "* I could let the algorithm suggest that a dog is a mix of two breeds by looking at the top two or three predictions."
   ]
  },
  {
   "cell_type": "code",
   "execution_count": 35,
   "metadata": {
    "scrolled": false
   },
   "outputs": [
    {
     "data": {
      "text/html": [
       "\n",
       "        <table width=\"100%\">\n",
       "            <thead>\n",
       "                <tr>\n",
       "                    <th colspan=\"2\" width=\"50%\" style=\"text-align:left\">Input - A photo of a: dog (?)</th>\n",
       "                    <th colspan=\"2\" width=\"50%\" style=\"text-align:left\">Output - Dog breed prediction: Belgian_malinois (80.14% confidence)</th>\n",
       "                </tr>\n",
       "            </thead>\n",
       "            <tbody>\n",
       "                <tr>\n",
       "                    <td colspan=\"2\" width=\"50%\" style=\"text-align:left\"><img width=\"100%\" src=\"images/demo/dog1.jpg\"></td>\n",
       "                    <td colspan=\"2\" width=\"50%\" style=\"text-align:left\"><img width=\"100%\" src=\"dogImages/valid/020.Belgian_malinois/Belgian_malinois_01410.jpg\"></td>\n",
       "                </tr>\n",
       "            </tbody>\n",
       "        </table>\n",
       "        "
      ],
      "text/plain": [
       "<IPython.core.display.HTML object>"
      ]
     },
     "metadata": {},
     "output_type": "display_data"
    }
   ],
   "source": [
    "# My sister and a dog of unkown breed.\n",
    "dog_analyzer_pretty(['images/demo/dog1.jpg'])"
   ]
  },
  {
   "cell_type": "code",
   "execution_count": 36,
   "metadata": {
    "scrolled": false
   },
   "outputs": [
    {
     "data": {
      "text/html": [
       "\n",
       "        <table width=\"100%\">\n",
       "            <thead>\n",
       "                <tr>\n",
       "                    <th colspan=\"2\" width=\"50%\" style=\"text-align:left\">Input - A photo of a: dog (?)</th>\n",
       "                    <th colspan=\"2\" width=\"50%\" style=\"text-align:left\">Output - Dog breed prediction: Bulldog (98.56% confidence)</th>\n",
       "                </tr>\n",
       "            </thead>\n",
       "            <tbody>\n",
       "                <tr>\n",
       "                    <td colspan=\"2\" width=\"50%\" style=\"text-align:left\"><img width=\"100%\" src=\"images/demo/dog2.jpg\"></td>\n",
       "                    <td colspan=\"2\" width=\"50%\" style=\"text-align:left\"><img width=\"100%\" src=\"dogImages/valid/040.Bulldog/Bulldog_02872.jpg\"></td>\n",
       "                </tr>\n",
       "            </tbody>\n",
       "        </table>\n",
       "        "
      ],
      "text/plain": [
       "<IPython.core.display.HTML object>"
      ]
     },
     "metadata": {},
     "output_type": "display_data"
    }
   ],
   "source": [
    "# My sister and a french bulldog\n",
    "dog_analyzer_pretty(['images/demo/dog2.jpg'])"
   ]
  },
  {
   "cell_type": "code",
   "execution_count": 37,
   "metadata": {
    "scrolled": false
   },
   "outputs": [
    {
     "data": {
      "text/html": [
       "\n",
       "        <table width=\"100%\">\n",
       "            <thead>\n",
       "                <tr>\n",
       "                    <th colspan=\"2\" width=\"50%\" style=\"text-align:left\">Input - A photo of a: dog (?)</th>\n",
       "                    <th colspan=\"2\" width=\"50%\" style=\"text-align:left\">Output - Dog breed prediction: Flat-coated_retriever (98.26% confidence)</th>\n",
       "                </tr>\n",
       "            </thead>\n",
       "            <tbody>\n",
       "                <tr>\n",
       "                    <td colspan=\"2\" width=\"50%\" style=\"text-align:left\"><img width=\"100%\" src=\"images/demo/dog3.png\"></td>\n",
       "                    <td colspan=\"2\" width=\"50%\" style=\"text-align:left\"><img width=\"100%\" src=\"dogImages/valid/068.Flat-coated_retriever/Flat-coated_retriever_04718.jpg\"></td>\n",
       "                </tr>\n",
       "            </tbody>\n",
       "        </table>\n",
       "        "
      ],
      "text/plain": [
       "<IPython.core.display.HTML object>"
      ]
     },
     "metadata": {},
     "output_type": "display_data"
    }
   ],
   "source": [
    "# A dog that according to me looks like a flat-coated retriever, but I don't know.\n",
    "dog_analyzer_pretty(['images/demo/dog3.png'])"
   ]
  },
  {
   "cell_type": "code",
   "execution_count": 38,
   "metadata": {},
   "outputs": [
    {
     "data": {
      "text/html": [
       "\n",
       "        <table width=\"100%\">\n",
       "            <thead>\n",
       "                <tr>\n",
       "                    <th colspan=\"2\" width=\"50%\" style=\"text-align:left\">Input - A photo of a: dog (?)</th>\n",
       "                    <th colspan=\"2\" width=\"50%\" style=\"text-align:left\">Output - Dog breed prediction: Kerry_blue_terrier (21.72% confidence)</th>\n",
       "                </tr>\n",
       "            </thead>\n",
       "            <tbody>\n",
       "                <tr>\n",
       "                    <td colspan=\"2\" width=\"50%\" style=\"text-align:left\"><img width=\"100%\" src=\"images/demo/dog5.jpg\"></td>\n",
       "                    <td colspan=\"2\" width=\"50%\" style=\"text-align:left\"><img width=\"100%\" src=\"dogImages/valid/093.Kerry_blue_terrier/Kerry_blue_terrier_06327.jpg\"></td>\n",
       "                </tr>\n",
       "            </tbody>\n",
       "        </table>\n",
       "        "
      ],
      "text/plain": [
       "<IPython.core.display.HTML object>"
      ]
     },
     "metadata": {},
     "output_type": "display_data"
    }
   ],
   "source": [
    "# A collegues miniature schnauzer\n",
    "dog_analyzer_pretty(['images/demo/dog5.jpg'])"
   ]
  },
  {
   "cell_type": "code",
   "execution_count": 39,
   "metadata": {
    "scrolled": false
   },
   "outputs": [
    {
     "data": {
      "text/html": [
       "\n",
       "        <table width=\"100%\">\n",
       "            <thead>\n",
       "                <tr>\n",
       "                    <th colspan=\"2\" width=\"50%\" style=\"text-align:left\">Input - A photo of a: human (?)</th>\n",
       "                    <th colspan=\"2\" width=\"50%\" style=\"text-align:left\">Output - Dog breed prediction: English_cocker_spaniel (6.13% confidence)</th>\n",
       "                </tr>\n",
       "            </thead>\n",
       "            <tbody>\n",
       "                <tr>\n",
       "                    <td colspan=\"2\" width=\"50%\" style=\"text-align:left\"><img width=\"100%\" src=\"images/demo/me1.jpg\"></td>\n",
       "                    <td colspan=\"2\" width=\"50%\" style=\"text-align:left\"><img width=\"100%\" src=\"dogImages/valid/061.English_cocker_spaniel/English_cocker_spaniel_04302.jpg\"></td>\n",
       "                </tr>\n",
       "            </tbody>\n",
       "        </table>\n",
       "        "
      ],
      "text/plain": [
       "<IPython.core.display.HTML object>"
      ]
     },
     "metadata": {},
     "output_type": "display_data"
    }
   ],
   "source": [
    "# Me posing for the CNN\n",
    "dog_analyzer_pretty(['images/demo/me1.jpg'])"
   ]
  },
  {
   "cell_type": "code",
   "execution_count": 40,
   "metadata": {
    "scrolled": false
   },
   "outputs": [
    {
     "data": {
      "text/html": [
       "\n",
       "        <table width=\"100%\">\n",
       "            <thead>\n",
       "                <tr>\n",
       "                    <th colspan=\"2\" width=\"50%\" style=\"text-align:left\">Input - A photo of a: human (?)</th>\n",
       "                    <th colspan=\"2\" width=\"50%\" style=\"text-align:left\">Output - Dog breed prediction: Bulldog (29.35% confidence)</th>\n",
       "                </tr>\n",
       "            </thead>\n",
       "            <tbody>\n",
       "                <tr>\n",
       "                    <td colspan=\"2\" width=\"50%\" style=\"text-align:left\"><img width=\"100%\" src=\"images/demo/me2.jpg\"></td>\n",
       "                    <td colspan=\"2\" width=\"50%\" style=\"text-align:left\"><img width=\"100%\" src=\"dogImages/valid/040.Bulldog/Bulldog_02872.jpg\"></td>\n",
       "                </tr>\n",
       "            </tbody>\n",
       "        </table>\n",
       "        "
      ],
      "text/plain": [
       "<IPython.core.display.HTML object>"
      ]
     },
     "metadata": {},
     "output_type": "display_data"
    }
   ],
   "source": [
    "# Me sport climbing\n",
    "dog_analyzer_pretty(['images/demo/me2.jpg'])"
   ]
  },
  {
   "cell_type": "code",
   "execution_count": 41,
   "metadata": {},
   "outputs": [
    {
     "data": {
      "text/html": [
       "\n",
       "        <table width=\"100%\">\n",
       "            <thead>\n",
       "                <tr>\n",
       "                    <th colspan=\"2\" width=\"50%\" style=\"text-align:left\">Input - A photo of a: unknown (?)</th>\n",
       "                    <th colspan=\"2\" width=\"50%\" style=\"text-align:left\">Output - Dog breed prediction: Chinese_shar-pei (8.87% confidence)</th>\n",
       "                </tr>\n",
       "            </thead>\n",
       "            <tbody>\n",
       "                <tr>\n",
       "                    <td colspan=\"2\" width=\"50%\" style=\"text-align:left\"><img width=\"100%\" src=\"images/demo/koala1.jpg\"></td>\n",
       "                    <td colspan=\"2\" width=\"50%\" style=\"text-align:left\"><img width=\"100%\" src=\"dogImages/valid/050.Chinese_shar-pei/Chinese_shar-pei_03562.jpg\"></td>\n",
       "                </tr>\n",
       "            </tbody>\n",
       "        </table>\n",
       "        "
      ],
      "text/plain": [
       "<IPython.core.display.HTML object>"
      ]
     },
     "metadata": {},
     "output_type": "display_data"
    }
   ],
   "source": [
    "# The ResNet50 dog detector wasn't fooled by other animals!\n",
    "dog_analyzer_pretty(['images/demo/koala1.jpg'])"
   ]
  },
  {
   "cell_type": "code",
   "execution_count": 42,
   "metadata": {},
   "outputs": [
    {
     "data": {
      "text/html": [
       "\n",
       "        <table width=\"100%\">\n",
       "            <thead>\n",
       "                <tr>\n",
       "                    <th colspan=\"2\" width=\"50%\" style=\"text-align:left\">Input - A photo of a: unknown (?)</th>\n",
       "                    <th colspan=\"2\" width=\"50%\" style=\"text-align:left\">Output - Dog breed prediction: Chinese_shar-pei (6.07% confidence)</th>\n",
       "                </tr>\n",
       "            </thead>\n",
       "            <tbody>\n",
       "                <tr>\n",
       "                    <td colspan=\"2\" width=\"50%\" style=\"text-align:left\"><img width=\"100%\" src=\"images/demo/bear1.jpg\"></td>\n",
       "                    <td colspan=\"2\" width=\"50%\" style=\"text-align:left\"><img width=\"100%\" src=\"dogImages/valid/050.Chinese_shar-pei/Chinese_shar-pei_03562.jpg\"></td>\n",
       "                </tr>\n",
       "            </tbody>\n",
       "        </table>\n",
       "        "
      ],
      "text/plain": [
       "<IPython.core.display.HTML object>"
      ]
     },
     "metadata": {},
     "output_type": "display_data"
    }
   ],
   "source": [
    "dog_analyzer_pretty(['images/demo/bear1.jpg'])"
   ]
  },
  {
   "cell_type": "code",
   "execution_count": 43,
   "metadata": {},
   "outputs": [
    {
     "data": {
      "text/html": [
       "\n",
       "        <table width=\"100%\">\n",
       "            <thead>\n",
       "                <tr>\n",
       "                    <th colspan=\"2\" width=\"50%\" style=\"text-align:left\">Input - A photo of a: human (?)</th>\n",
       "                    <th colspan=\"2\" width=\"50%\" style=\"text-align:left\">Output - Dog breed prediction: Chinese_crested (9.91% confidence)</th>\n",
       "                </tr>\n",
       "            </thead>\n",
       "            <tbody>\n",
       "                <tr>\n",
       "                    <td colspan=\"2\" width=\"50%\" style=\"text-align:left\"><img width=\"100%\" src=\"images/demo/alpaca1.jpg\"></td>\n",
       "                    <td colspan=\"2\" width=\"50%\" style=\"text-align:left\"><img width=\"100%\" src=\"dogImages/valid/049.Chinese_crested/Chinese_crested_03467.jpg\"></td>\n",
       "                </tr>\n",
       "            </tbody>\n",
       "        </table>\n",
       "        "
      ],
      "text/plain": [
       "<IPython.core.display.HTML object>"
      ]
     },
     "metadata": {},
     "output_type": "display_data"
    }
   ],
   "source": [
    "# An alpaca.\n",
    "# Photo: Kerstin Joensson / AP\n",
    "dog_analyzer_pretty(['images/demo/alpaca1.jpg'])"
   ]
  }
 ],
 "metadata": {
  "anaconda-cloud": {},
  "kernelspec": {
   "display_name": "Python 3",
   "language": "python",
   "name": "python3"
  },
  "language_info": {
   "codemirror_mode": {
    "name": "ipython",
    "version": 3
   },
   "file_extension": ".py",
   "mimetype": "text/x-python",
   "name": "python",
   "nbconvert_exporter": "python",
   "pygments_lexer": "ipython3",
   "version": "3.6.2"
  }
 },
 "nbformat": 4,
 "nbformat_minor": 1
}
